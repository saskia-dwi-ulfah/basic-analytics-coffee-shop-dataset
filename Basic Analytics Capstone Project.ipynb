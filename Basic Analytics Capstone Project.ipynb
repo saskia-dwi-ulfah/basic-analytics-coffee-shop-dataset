{
  "nbformat": 4,
  "nbformat_minor": 0,
  "metadata": {
    "kernelspec": {
      "display_name": "Python 3",
      "language": "python",
      "name": "python3"
    },
    "language_info": {
      "codemirror_mode": {
        "name": "ipython",
        "version": 3
      },
      "file_extension": ".py",
      "mimetype": "text/x-python",
      "name": "python",
      "nbconvert_exporter": "python",
      "pygments_lexer": "ipython3",
      "version": "3.8.3"
    },
    "colab": {
      "name": "Saskia Dwi Ulfah_Capstone Project Narasiodata.ipynb",
      "provenance": [],
      "collapsed_sections": []
    }
  },
  "cells": [
    {
      "cell_type": "markdown",
      "metadata": {
        "id": "cWDijqRGKn8I"
      },
      "source": [
        "### CAPSTONE PROJECT - Exploratory Data Analysis"
      ]
    },
    {
      "cell_type": "markdown",
      "metadata": {
        "id": "M6YWX-NtKn8K"
      },
      "source": [
        "##### **IMPORT PACKAGES**"
      ]
    },
    {
      "cell_type": "code",
      "metadata": {
        "id": "Ah55CzDqKn8K"
      },
      "source": [
        "import pandas as pd\n",
        "import numpy as np\n",
        "import random\n",
        "import datetime\n",
        "import matplotlib.pyplot as plt"
      ],
      "execution_count": 225,
      "outputs": []
    },
    {
      "cell_type": "markdown",
      "metadata": {
        "id": "A4PRD1U1Kn8L"
      },
      "source": [
        "##### **READ DATASET**"
      ]
    },
    {
      "cell_type": "code",
      "metadata": {
        "id": "AqSI5ZYXKn8L"
      },
      "source": [
        "df_customer = pd.read_csv('customer.csv')\n",
        "df_generations = pd.read_csv('generations.csv')\n",
        "df_pastry_inventory = pd.read_csv('pastry inventory.csv')\n",
        "df_product = pd.read_csv('product.csv')\n",
        "df_sales_outlet = pd.read_csv('sales outlet.csv')\n",
        "df_sales_reciepts = pd.read_csv('sales reciepts.csv')"
      ],
      "execution_count": 226,
      "outputs": []
    },
    {
      "cell_type": "markdown",
      "metadata": {
        "id": "1DH2ISL0Kn8L"
      },
      "source": [
        "##### **PROBLEM STATEMENT (Point 5)**"
      ]
    },
    {
      "cell_type": "markdown",
      "metadata": {
        "id": "PpZFYCGf_aqL"
      },
      "source": [
        "1. Generasi mana yang lebih sering melakukan pembelian?\n",
        "2. Produk apa yang paling digemari oleh tiap generasi?\n",
        "3. Bagaimana komposisi gender customer?\n",
        "4. Apa produk yang disukai oleh masing-masing gender?\n",
        "5. Apa produk yang paling diminati di setiap homestore?\n",
        "6. Pendapatan masing-masing homestore perhari?\n",
        "7. Homestore mana yang penjualannya paling banyak dan homestore mana yang penjualannya paling sedikit?\n",
        "8. Produk yang bersisa di masing-masing homestore?\n",
        "9. Bagaimana distribusi produk agar tidak banyak yang terbuang?\n",
        "10. Apakah konsumen yang sudah berlangganan sejak lama lebih banyak melakukan pembelian?\n",
        "11. Bagaimana komposisi setiap generasi di tiap homestore?"
      ]
    },
    {
      "cell_type": "markdown",
      "metadata": {
        "id": "WlX3RVe4Kn8L"
      },
      "source": [
        "##### **DATA CLEANSING (Point 30)**"
      ]
    },
    {
      "cell_type": "markdown",
      "metadata": {
        "id": "0UzsXEHWi8XL"
      },
      "source": [
        "*Pembersihan data df_customer*"
      ]
    },
    {
      "cell_type": "code",
      "metadata": {
        "id": "hpRq0IMygydT",
        "colab": {
          "base_uri": "https://localhost:8080/",
          "height": 301
        },
        "outputId": "baf080c4-1967-4cc0-cccc-1506a1c56d82"
      },
      "source": [
        "df_customer.head()"
      ],
      "execution_count": 227,
      "outputs": [
        {
          "output_type": "execute_result",
          "data": {
            "text/html": [
              "<div>\n",
              "<style scoped>\n",
              "    .dataframe tbody tr th:only-of-type {\n",
              "        vertical-align: middle;\n",
              "    }\n",
              "\n",
              "    .dataframe tbody tr th {\n",
              "        vertical-align: top;\n",
              "    }\n",
              "\n",
              "    .dataframe thead th {\n",
              "        text-align: right;\n",
              "    }\n",
              "</style>\n",
              "<table border=\"1\" class=\"dataframe\">\n",
              "  <thead>\n",
              "    <tr style=\"text-align: right;\">\n",
              "      <th></th>\n",
              "      <th>customer_id</th>\n",
              "      <th>home_store</th>\n",
              "      <th>customer_first-name</th>\n",
              "      <th>customer_email</th>\n",
              "      <th>customer_since</th>\n",
              "      <th>loyalty_card_number</th>\n",
              "      <th>birthdate</th>\n",
              "      <th>gender</th>\n",
              "      <th>birth_year</th>\n",
              "    </tr>\n",
              "  </thead>\n",
              "  <tbody>\n",
              "    <tr>\n",
              "      <th>0</th>\n",
              "      <td>1</td>\n",
              "      <td>3</td>\n",
              "      <td>Kelly Key</td>\n",
              "      <td>Venus@adipiscing.edu</td>\n",
              "      <td>2017-01-04</td>\n",
              "      <td>908-424-2890</td>\n",
              "      <td>1950-05-29</td>\n",
              "      <td>M</td>\n",
              "      <td>1950</td>\n",
              "    </tr>\n",
              "    <tr>\n",
              "      <th>1</th>\n",
              "      <td>2</td>\n",
              "      <td>3</td>\n",
              "      <td>Clark Schroeder</td>\n",
              "      <td>Nora@fames.gov</td>\n",
              "      <td>2017-01-07</td>\n",
              "      <td>032-732-6308</td>\n",
              "      <td>1950-07-30</td>\n",
              "      <td>M</td>\n",
              "      <td>1950</td>\n",
              "    </tr>\n",
              "    <tr>\n",
              "      <th>2</th>\n",
              "      <td>3</td>\n",
              "      <td>3</td>\n",
              "      <td>Elvis Cardenas</td>\n",
              "      <td>Brianna@tellus.edu</td>\n",
              "      <td>2017-01-10</td>\n",
              "      <td>459-375-9187</td>\n",
              "      <td>1950-09-30</td>\n",
              "      <td>M</td>\n",
              "      <td>1950</td>\n",
              "    </tr>\n",
              "    <tr>\n",
              "      <th>3</th>\n",
              "      <td>4</td>\n",
              "      <td>3</td>\n",
              "      <td>Rafael Estes</td>\n",
              "      <td>Ina@non.gov</td>\n",
              "      <td>2017-01-13</td>\n",
              "      <td>576-640-9226</td>\n",
              "      <td>1950-12-01</td>\n",
              "      <td>M</td>\n",
              "      <td>1950</td>\n",
              "    </tr>\n",
              "    <tr>\n",
              "      <th>4</th>\n",
              "      <td>5</td>\n",
              "      <td>3</td>\n",
              "      <td>Colin Lynn</td>\n",
              "      <td>Dale@Integer.com</td>\n",
              "      <td>2017-01-15</td>\n",
              "      <td>344-674-6569</td>\n",
              "      <td>1951-02-01</td>\n",
              "      <td>M</td>\n",
              "      <td>1951</td>\n",
              "    </tr>\n",
              "  </tbody>\n",
              "</table>\n",
              "</div>"
            ],
            "text/plain": [
              "   customer_id  home_store customer_first-name  ...   birthdate gender birth_year\n",
              "0            1           3           Kelly Key  ...  1950-05-29      M       1950\n",
              "1            2           3     Clark Schroeder  ...  1950-07-30      M       1950\n",
              "2            3           3      Elvis Cardenas  ...  1950-09-30      M       1950\n",
              "3            4           3        Rafael Estes  ...  1950-12-01      M       1950\n",
              "4            5           3          Colin Lynn  ...  1951-02-01      M       1951\n",
              "\n",
              "[5 rows x 9 columns]"
            ]
          },
          "metadata": {
            "tags": []
          },
          "execution_count": 227
        }
      ]
    },
    {
      "cell_type": "code",
      "metadata": {
        "colab": {
          "base_uri": "https://localhost:8080/"
        },
        "id": "AYxSwMxEqAXe",
        "outputId": "42d929f4-721e-43f7-e256-a9321ee515fe"
      },
      "source": [
        "# memeriksa tipe data setiap kolom df_customer\n",
        "df_customer.info()"
      ],
      "execution_count": 228,
      "outputs": [
        {
          "output_type": "stream",
          "text": [
            "<class 'pandas.core.frame.DataFrame'>\n",
            "RangeIndex: 2246 entries, 0 to 2245\n",
            "Data columns (total 9 columns):\n",
            " #   Column               Non-Null Count  Dtype \n",
            "---  ------               --------------  ----- \n",
            " 0   customer_id          2246 non-null   int64 \n",
            " 1   home_store           2246 non-null   int64 \n",
            " 2   customer_first-name  2246 non-null   object\n",
            " 3   customer_email       2246 non-null   object\n",
            " 4   customer_since       2246 non-null   object\n",
            " 5   loyalty_card_number  2246 non-null   object\n",
            " 6   birthdate            2246 non-null   object\n",
            " 7   gender               2246 non-null   object\n",
            " 8   birth_year           2246 non-null   int64 \n",
            "dtypes: int64(3), object(6)\n",
            "memory usage: 158.0+ KB\n"
          ],
          "name": "stdout"
        }
      ]
    },
    {
      "cell_type": "code",
      "metadata": {
        "id": "CUfO-gxMgkzg"
      },
      "source": [
        "# pembersihan data df_customer\n",
        "\n",
        "# mengubah tipe data menjadi string\n",
        "columns = ['customer_id', 'home_store']\n",
        "\n",
        "for column in columns:\n",
        "  df_customer[column] = df_customer[column].astype(str)\n",
        "\n",
        "# mengubah tipe data menjadi datetime\n",
        "cols = ['customer_since', 'birthdate']\n",
        "\n",
        "for col in cols:\n",
        "  df_customer[col] = pd.to_datetime(df_customer[col])\n"
      ],
      "execution_count": 229,
      "outputs": []
    },
    {
      "cell_type": "code",
      "metadata": {
        "colab": {
          "base_uri": "https://localhost:8080/"
        },
        "id": "SdrgDyUfhnHJ",
        "outputId": "a911f43c-cb56-4022-b5b4-df36e0a76807"
      },
      "source": [
        "# memeriksa tipe data setiap kolom df_customer setelah diubah\n",
        "df_customer.info()"
      ],
      "execution_count": 230,
      "outputs": [
        {
          "output_type": "stream",
          "text": [
            "<class 'pandas.core.frame.DataFrame'>\n",
            "RangeIndex: 2246 entries, 0 to 2245\n",
            "Data columns (total 9 columns):\n",
            " #   Column               Non-Null Count  Dtype         \n",
            "---  ------               --------------  -----         \n",
            " 0   customer_id          2246 non-null   object        \n",
            " 1   home_store           2246 non-null   object        \n",
            " 2   customer_first-name  2246 non-null   object        \n",
            " 3   customer_email       2246 non-null   object        \n",
            " 4   customer_since       2246 non-null   datetime64[ns]\n",
            " 5   loyalty_card_number  2246 non-null   object        \n",
            " 6   birthdate            2246 non-null   datetime64[ns]\n",
            " 7   gender               2246 non-null   object        \n",
            " 8   birth_year           2246 non-null   int64         \n",
            "dtypes: datetime64[ns](2), int64(1), object(6)\n",
            "memory usage: 158.0+ KB\n"
          ],
          "name": "stdout"
        }
      ]
    },
    {
      "cell_type": "code",
      "metadata": {
        "id": "58VOmEVtkUuB",
        "colab": {
          "base_uri": "https://localhost:8080/"
        },
        "outputId": "14884160-7c9a-494f-ad70-0315f3b725ac"
      },
      "source": [
        "# memeriksa apakah terdapat missing value \n",
        "df_customer.isnull().any() ## tidak terdapat missing value"
      ],
      "execution_count": 231,
      "outputs": [
        {
          "output_type": "execute_result",
          "data": {
            "text/plain": [
              "customer_id            False\n",
              "home_store             False\n",
              "customer_first-name    False\n",
              "customer_email         False\n",
              "customer_since         False\n",
              "loyalty_card_number    False\n",
              "birthdate              False\n",
              "gender                 False\n",
              "birth_year             False\n",
              "dtype: bool"
            ]
          },
          "metadata": {
            "tags": []
          },
          "execution_count": 231
        }
      ]
    },
    {
      "cell_type": "code",
      "metadata": {
        "id": "DNjad4FMk7GG",
        "colab": {
          "base_uri": "https://localhost:8080/"
        },
        "outputId": "e06191f0-52c1-426f-8593-0c0b19e6af97"
      },
      "source": [
        "# memeriksa apakah terdapat duplicate\n",
        "len(df_customer['customer_id'].unique())==len(df_customer) ## tidak terdapat duplicate"
      ],
      "execution_count": 232,
      "outputs": [
        {
          "output_type": "execute_result",
          "data": {
            "text/plain": [
              "True"
            ]
          },
          "metadata": {
            "tags": []
          },
          "execution_count": 232
        }
      ]
    },
    {
      "cell_type": "markdown",
      "metadata": {
        "id": "tmrEvy2CjP7X"
      },
      "source": [
        "*Pembersihan data df_generations*"
      ]
    },
    {
      "cell_type": "code",
      "metadata": {
        "id": "57msPcYAjWaG",
        "colab": {
          "base_uri": "https://localhost:8080/",
          "height": 199
        },
        "outputId": "68f5b61f-8966-4164-a4cc-7e5cdce1a033"
      },
      "source": [
        "df_generations.head()"
      ],
      "execution_count": 233,
      "outputs": [
        {
          "output_type": "execute_result",
          "data": {
            "text/html": [
              "<div>\n",
              "<style scoped>\n",
              "    .dataframe tbody tr th:only-of-type {\n",
              "        vertical-align: middle;\n",
              "    }\n",
              "\n",
              "    .dataframe tbody tr th {\n",
              "        vertical-align: top;\n",
              "    }\n",
              "\n",
              "    .dataframe thead th {\n",
              "        text-align: right;\n",
              "    }\n",
              "</style>\n",
              "<table border=\"1\" class=\"dataframe\">\n",
              "  <thead>\n",
              "    <tr style=\"text-align: right;\">\n",
              "      <th></th>\n",
              "      <th>birth_year</th>\n",
              "      <th>generation</th>\n",
              "    </tr>\n",
              "  </thead>\n",
              "  <tbody>\n",
              "    <tr>\n",
              "      <th>0</th>\n",
              "      <td>1946</td>\n",
              "      <td>Baby Boomers</td>\n",
              "    </tr>\n",
              "    <tr>\n",
              "      <th>1</th>\n",
              "      <td>1947</td>\n",
              "      <td>Baby Boomers</td>\n",
              "    </tr>\n",
              "    <tr>\n",
              "      <th>2</th>\n",
              "      <td>1948</td>\n",
              "      <td>Baby Boomers</td>\n",
              "    </tr>\n",
              "    <tr>\n",
              "      <th>3</th>\n",
              "      <td>1949</td>\n",
              "      <td>Baby Boomers</td>\n",
              "    </tr>\n",
              "    <tr>\n",
              "      <th>4</th>\n",
              "      <td>1950</td>\n",
              "      <td>Baby Boomers</td>\n",
              "    </tr>\n",
              "  </tbody>\n",
              "</table>\n",
              "</div>"
            ],
            "text/plain": [
              "   birth_year    generation\n",
              "0        1946  Baby Boomers\n",
              "1        1947  Baby Boomers\n",
              "2        1948  Baby Boomers\n",
              "3        1949  Baby Boomers\n",
              "4        1950  Baby Boomers"
            ]
          },
          "metadata": {
            "tags": []
          },
          "execution_count": 233
        }
      ]
    },
    {
      "cell_type": "code",
      "metadata": {
        "id": "jtqnCrHplu9p",
        "colab": {
          "base_uri": "https://localhost:8080/"
        },
        "outputId": "6748f33b-0872-495b-fb3e-1b8de307091b"
      },
      "source": [
        "# memeriksa tipe data setiap kolom df_generations\n",
        "df_generations.info()"
      ],
      "execution_count": 234,
      "outputs": [
        {
          "output_type": "stream",
          "text": [
            "<class 'pandas.core.frame.DataFrame'>\n",
            "RangeIndex: 70 entries, 0 to 69\n",
            "Data columns (total 2 columns):\n",
            " #   Column      Non-Null Count  Dtype \n",
            "---  ------      --------------  ----- \n",
            " 0   birth_year  70 non-null     int64 \n",
            " 1   generation  70 non-null     object\n",
            "dtypes: int64(1), object(1)\n",
            "memory usage: 1.2+ KB\n"
          ],
          "name": "stdout"
        }
      ]
    },
    {
      "cell_type": "code",
      "metadata": {
        "id": "lhTI_i23l9bL",
        "colab": {
          "base_uri": "https://localhost:8080/"
        },
        "outputId": "08cb0b1f-0241-4a97-a7b5-e7f6eaa086de"
      },
      "source": [
        "# memeriksa apakah terdapat missing value\n",
        "df_generations.isnull().any() ## tidak terdapat missing value"
      ],
      "execution_count": 235,
      "outputs": [
        {
          "output_type": "execute_result",
          "data": {
            "text/plain": [
              "birth_year    False\n",
              "generation    False\n",
              "dtype: bool"
            ]
          },
          "metadata": {
            "tags": []
          },
          "execution_count": 235
        }
      ]
    },
    {
      "cell_type": "code",
      "metadata": {
        "id": "nIAnmGQbmOVf",
        "colab": {
          "base_uri": "https://localhost:8080/"
        },
        "outputId": "52a29ff0-c80a-4778-a74f-683a5c9bfd65"
      },
      "source": [
        "# memeriksa apakah terdapat duplicate\n",
        "len(df_generations['birth_year'].unique())==len(df_generations) ## tidak terdapat duplicate"
      ],
      "execution_count": 236,
      "outputs": [
        {
          "output_type": "execute_result",
          "data": {
            "text/plain": [
              "True"
            ]
          },
          "metadata": {
            "tags": []
          },
          "execution_count": 236
        }
      ]
    },
    {
      "cell_type": "markdown",
      "metadata": {
        "id": "yUgCGDLfpZQp"
      },
      "source": [
        "*Pembersihan data df_pastry_inventory*"
      ]
    },
    {
      "cell_type": "code",
      "metadata": {
        "id": "IgQCQhQ1pTVd",
        "colab": {
          "base_uri": "https://localhost:8080/",
          "height": 199
        },
        "outputId": "ee84d195-3c33-42b4-8960-ea77fea4a885"
      },
      "source": [
        "df_pastry_inventory.head()"
      ],
      "execution_count": 237,
      "outputs": [
        {
          "output_type": "execute_result",
          "data": {
            "text/html": [
              "<div>\n",
              "<style scoped>\n",
              "    .dataframe tbody tr th:only-of-type {\n",
              "        vertical-align: middle;\n",
              "    }\n",
              "\n",
              "    .dataframe tbody tr th {\n",
              "        vertical-align: top;\n",
              "    }\n",
              "\n",
              "    .dataframe thead th {\n",
              "        text-align: right;\n",
              "    }\n",
              "</style>\n",
              "<table border=\"1\" class=\"dataframe\">\n",
              "  <thead>\n",
              "    <tr style=\"text-align: right;\">\n",
              "      <th></th>\n",
              "      <th>sales_outlet_id</th>\n",
              "      <th>transaction_date</th>\n",
              "      <th>product_id</th>\n",
              "      <th>start_of_day</th>\n",
              "      <th>quantity_sold</th>\n",
              "      <th>waste</th>\n",
              "      <th>% waste</th>\n",
              "    </tr>\n",
              "  </thead>\n",
              "  <tbody>\n",
              "    <tr>\n",
              "      <th>0</th>\n",
              "      <td>3</td>\n",
              "      <td>4/1/2019</td>\n",
              "      <td>69</td>\n",
              "      <td>18</td>\n",
              "      <td>8</td>\n",
              "      <td>10</td>\n",
              "      <td>56%</td>\n",
              "    </tr>\n",
              "    <tr>\n",
              "      <th>1</th>\n",
              "      <td>3</td>\n",
              "      <td>4/1/2019</td>\n",
              "      <td>70</td>\n",
              "      <td>18</td>\n",
              "      <td>12</td>\n",
              "      <td>6</td>\n",
              "      <td>33%</td>\n",
              "    </tr>\n",
              "    <tr>\n",
              "      <th>2</th>\n",
              "      <td>3</td>\n",
              "      <td>4/1/2019</td>\n",
              "      <td>71</td>\n",
              "      <td>18</td>\n",
              "      <td>8</td>\n",
              "      <td>10</td>\n",
              "      <td>56%</td>\n",
              "    </tr>\n",
              "    <tr>\n",
              "      <th>3</th>\n",
              "      <td>3</td>\n",
              "      <td>4/1/2019</td>\n",
              "      <td>72</td>\n",
              "      <td>48</td>\n",
              "      <td>9</td>\n",
              "      <td>39</td>\n",
              "      <td>81%</td>\n",
              "    </tr>\n",
              "    <tr>\n",
              "      <th>4</th>\n",
              "      <td>3</td>\n",
              "      <td>4/1/2019</td>\n",
              "      <td>73</td>\n",
              "      <td>18</td>\n",
              "      <td>9</td>\n",
              "      <td>9</td>\n",
              "      <td>50%</td>\n",
              "    </tr>\n",
              "  </tbody>\n",
              "</table>\n",
              "</div>"
            ],
            "text/plain": [
              "   sales_outlet_id transaction_date  product_id  ...  quantity_sold  waste  % waste\n",
              "0                3         4/1/2019          69  ...              8     10      56%\n",
              "1                3         4/1/2019          70  ...             12      6      33%\n",
              "2                3         4/1/2019          71  ...              8     10      56%\n",
              "3                3         4/1/2019          72  ...              9     39      81%\n",
              "4                3         4/1/2019          73  ...              9      9      50%\n",
              "\n",
              "[5 rows x 7 columns]"
            ]
          },
          "metadata": {
            "tags": []
          },
          "execution_count": 237
        }
      ]
    },
    {
      "cell_type": "code",
      "metadata": {
        "colab": {
          "base_uri": "https://localhost:8080/"
        },
        "id": "0rs1umtxrF34",
        "outputId": "75cc9687-9cf1-40a2-f0dc-6b7e32f4222f"
      },
      "source": [
        "# memeriksa tipe data tiap kolom df_pastry_inventory\n",
        "df_pastry_inventory.info()"
      ],
      "execution_count": 238,
      "outputs": [
        {
          "output_type": "stream",
          "text": [
            "<class 'pandas.core.frame.DataFrame'>\n",
            "RangeIndex: 307 entries, 0 to 306\n",
            "Data columns (total 7 columns):\n",
            " #   Column            Non-Null Count  Dtype \n",
            "---  ------            --------------  ----- \n",
            " 0   sales_outlet_id   307 non-null    int64 \n",
            " 1   transaction_date  307 non-null    object\n",
            " 2   product_id        307 non-null    int64 \n",
            " 3   start_of_day      307 non-null    int64 \n",
            " 4   quantity_sold     307 non-null    int64 \n",
            " 5   waste             307 non-null    int64 \n",
            " 6   % waste           307 non-null    object\n",
            "dtypes: int64(5), object(2)\n",
            "memory usage: 16.9+ KB\n"
          ],
          "name": "stdout"
        }
      ]
    },
    {
      "cell_type": "code",
      "metadata": {
        "id": "6Ft6FZOVqfsH"
      },
      "source": [
        "# pembersihan data df_pastry_inventory\n",
        "\n",
        "# mengubah tipe data menjadi string\n",
        "cols = ['sales_outlet_id', 'product_id']\n",
        "\n",
        "for col in cols:\n",
        "  df_pastry_inventory[col] = df_pastry_inventory[col].astype(str)\n",
        "\n",
        "# mengubah tipe data menjadi datetime\n",
        "df_pastry_inventory['transaction_date'] = pd.to_datetime(df_pastry_inventory['transaction_date'])\n",
        "\n",
        "# menghilangkan karakter % pada kolom '% waste'\n",
        "df_pastry_inventory['% waste'] = df_pastry_inventory['% waste'].str.replace('%',\"\")\n",
        "\n",
        "# mengubah tipe data kolom '% waste' menjadi float\n",
        "df_pastry_inventory['% waste'] = df_pastry_inventory['% waste'].astype(float) "
      ],
      "execution_count": 239,
      "outputs": []
    },
    {
      "cell_type": "code",
      "metadata": {
        "colab": {
          "base_uri": "https://localhost:8080/"
        },
        "id": "Aa-DSF0ZsQA9",
        "outputId": "a1a5ea94-ccef-48ca-e9d7-4285a5de9533"
      },
      "source": [
        "# memeriksa tipe data tiap kolom df_pastry_inventory setelah diubah\n",
        "df_pastry_inventory.info()"
      ],
      "execution_count": 240,
      "outputs": [
        {
          "output_type": "stream",
          "text": [
            "<class 'pandas.core.frame.DataFrame'>\n",
            "RangeIndex: 307 entries, 0 to 306\n",
            "Data columns (total 7 columns):\n",
            " #   Column            Non-Null Count  Dtype         \n",
            "---  ------            --------------  -----         \n",
            " 0   sales_outlet_id   307 non-null    object        \n",
            " 1   transaction_date  307 non-null    datetime64[ns]\n",
            " 2   product_id        307 non-null    object        \n",
            " 3   start_of_day      307 non-null    int64         \n",
            " 4   quantity_sold     307 non-null    int64         \n",
            " 5   waste             307 non-null    int64         \n",
            " 6   % waste           307 non-null    float64       \n",
            "dtypes: datetime64[ns](1), float64(1), int64(3), object(2)\n",
            "memory usage: 16.9+ KB\n"
          ],
          "name": "stdout"
        }
      ]
    },
    {
      "cell_type": "code",
      "metadata": {
        "id": "RWRXpXkXrCB0",
        "colab": {
          "base_uri": "https://localhost:8080/"
        },
        "outputId": "c1378a11-d009-4e9c-e61b-27989f03f4c4"
      },
      "source": [
        "# memeriksa apakah terdapat missing value\n",
        "df_pastry_inventory.isnull().any() ## tidak terdapat missing value"
      ],
      "execution_count": 241,
      "outputs": [
        {
          "output_type": "execute_result",
          "data": {
            "text/plain": [
              "sales_outlet_id     False\n",
              "transaction_date    False\n",
              "product_id          False\n",
              "start_of_day        False\n",
              "quantity_sold       False\n",
              "waste               False\n",
              "% waste             False\n",
              "dtype: bool"
            ]
          },
          "metadata": {
            "tags": []
          },
          "execution_count": 241
        }
      ]
    },
    {
      "cell_type": "markdown",
      "metadata": {
        "id": "ls8re25ZwDof"
      },
      "source": [
        "*Pembersihan data df_product*"
      ]
    },
    {
      "cell_type": "code",
      "metadata": {
        "id": "y6ON5lzBwMeW",
        "colab": {
          "base_uri": "https://localhost:8080/",
          "height": 389
        },
        "outputId": "5b4c2726-3da9-4dd4-e009-782938851e80"
      },
      "source": [
        "df_product.head()"
      ],
      "execution_count": 242,
      "outputs": [
        {
          "output_type": "execute_result",
          "data": {
            "text/html": [
              "<div>\n",
              "<style scoped>\n",
              "    .dataframe tbody tr th:only-of-type {\n",
              "        vertical-align: middle;\n",
              "    }\n",
              "\n",
              "    .dataframe tbody tr th {\n",
              "        vertical-align: top;\n",
              "    }\n",
              "\n",
              "    .dataframe thead th {\n",
              "        text-align: right;\n",
              "    }\n",
              "</style>\n",
              "<table border=\"1\" class=\"dataframe\">\n",
              "  <thead>\n",
              "    <tr style=\"text-align: right;\">\n",
              "      <th></th>\n",
              "      <th>product_id</th>\n",
              "      <th>product_group</th>\n",
              "      <th>product_category</th>\n",
              "      <th>product_type</th>\n",
              "      <th>product</th>\n",
              "      <th>product_description</th>\n",
              "      <th>unit_of_measure</th>\n",
              "      <th>current_wholesale_price</th>\n",
              "      <th>current_retail_price</th>\n",
              "      <th>tax_exempt_yn</th>\n",
              "      <th>promo_yn</th>\n",
              "      <th>new_product_yn</th>\n",
              "    </tr>\n",
              "  </thead>\n",
              "  <tbody>\n",
              "    <tr>\n",
              "      <th>0</th>\n",
              "      <td>1</td>\n",
              "      <td>Whole Bean/Teas</td>\n",
              "      <td>Coffee beans</td>\n",
              "      <td>Organic Beans</td>\n",
              "      <td>Brazilian - Organic</td>\n",
              "      <td>It's like Carnival in a cup. Clean and smooth.</td>\n",
              "      <td>12 oz</td>\n",
              "      <td>14.40</td>\n",
              "      <td>$18.00</td>\n",
              "      <td>Y</td>\n",
              "      <td>N</td>\n",
              "      <td>N</td>\n",
              "    </tr>\n",
              "    <tr>\n",
              "      <th>1</th>\n",
              "      <td>2</td>\n",
              "      <td>Whole Bean/Teas</td>\n",
              "      <td>Coffee beans</td>\n",
              "      <td>House blend Beans</td>\n",
              "      <td>Our Old Time Diner Blend</td>\n",
              "      <td>Out packed blend of beans that is reminiscent ...</td>\n",
              "      <td>12 oz</td>\n",
              "      <td>14.40</td>\n",
              "      <td>$18.00</td>\n",
              "      <td>Y</td>\n",
              "      <td>N</td>\n",
              "      <td>N</td>\n",
              "    </tr>\n",
              "    <tr>\n",
              "      <th>2</th>\n",
              "      <td>3</td>\n",
              "      <td>Whole Bean/Teas</td>\n",
              "      <td>Coffee beans</td>\n",
              "      <td>Espresso Beans</td>\n",
              "      <td>Espresso Roast</td>\n",
              "      <td>Our house blend for a good espresso shot.</td>\n",
              "      <td>1 lb</td>\n",
              "      <td>11.80</td>\n",
              "      <td>$14.75</td>\n",
              "      <td>Y</td>\n",
              "      <td>N</td>\n",
              "      <td>N</td>\n",
              "    </tr>\n",
              "    <tr>\n",
              "      <th>3</th>\n",
              "      <td>4</td>\n",
              "      <td>Whole Bean/Teas</td>\n",
              "      <td>Coffee beans</td>\n",
              "      <td>Espresso Beans</td>\n",
              "      <td>Primo Espresso Roast</td>\n",
              "      <td>Our primium single source of hand roasted beans.</td>\n",
              "      <td>1 lb</td>\n",
              "      <td>16.36</td>\n",
              "      <td>$20.45</td>\n",
              "      <td>Y</td>\n",
              "      <td>N</td>\n",
              "      <td>N</td>\n",
              "    </tr>\n",
              "    <tr>\n",
              "      <th>4</th>\n",
              "      <td>5</td>\n",
              "      <td>Whole Bean/Teas</td>\n",
              "      <td>Coffee beans</td>\n",
              "      <td>Gourmet Beans</td>\n",
              "      <td>Columbian Medium Roast</td>\n",
              "      <td>A smooth cup of coffee any time of day.</td>\n",
              "      <td>1 lb</td>\n",
              "      <td>12.00</td>\n",
              "      <td>$15.00</td>\n",
              "      <td>Y</td>\n",
              "      <td>N</td>\n",
              "      <td>N</td>\n",
              "    </tr>\n",
              "  </tbody>\n",
              "</table>\n",
              "</div>"
            ],
            "text/plain": [
              "   product_id    product_group  ... promo_yn new_product_yn\n",
              "0           1  Whole Bean/Teas  ...        N              N\n",
              "1           2  Whole Bean/Teas  ...        N              N\n",
              "2           3  Whole Bean/Teas  ...        N              N\n",
              "3           4  Whole Bean/Teas  ...        N              N\n",
              "4           5  Whole Bean/Teas  ...        N              N\n",
              "\n",
              "[5 rows x 12 columns]"
            ]
          },
          "metadata": {
            "tags": []
          },
          "execution_count": 242
        }
      ]
    },
    {
      "cell_type": "code",
      "metadata": {
        "id": "-07bkRQOwjur",
        "colab": {
          "base_uri": "https://localhost:8080/"
        },
        "outputId": "cca9e4d5-b4f1-4255-a3b9-e6a0e5cd8884"
      },
      "source": [
        "# memeriksa tipe data tiap kolom df_product\n",
        "df_product.info()"
      ],
      "execution_count": 243,
      "outputs": [
        {
          "output_type": "stream",
          "text": [
            "<class 'pandas.core.frame.DataFrame'>\n",
            "RangeIndex: 88 entries, 0 to 87\n",
            "Data columns (total 12 columns):\n",
            " #   Column                   Non-Null Count  Dtype  \n",
            "---  ------                   --------------  -----  \n",
            " 0   product_id               88 non-null     int64  \n",
            " 1   product_group            88 non-null     object \n",
            " 2   product_category         88 non-null     object \n",
            " 3   product_type             88 non-null     object \n",
            " 4   product                  88 non-null     object \n",
            " 5   product_description      88 non-null     object \n",
            " 6   unit_of_measure          88 non-null     object \n",
            " 7   current_wholesale_price  88 non-null     float64\n",
            " 8   current_retail_price     88 non-null     object \n",
            " 9   tax_exempt_yn            88 non-null     object \n",
            " 10  promo_yn                 88 non-null     object \n",
            " 11  new_product_yn           88 non-null     object \n",
            "dtypes: float64(1), int64(1), object(10)\n",
            "memory usage: 8.4+ KB\n"
          ],
          "name": "stdout"
        }
      ]
    },
    {
      "cell_type": "code",
      "metadata": {
        "id": "k3SzkYBTw-HI"
      },
      "source": [
        "# pembersihan data df_product\n",
        "\n",
        "# mengubah tipe data kolom 'product_id' menjadi string\n",
        "df_product['product_id'] = df_product['product_id'].astype(str)\n",
        "\n",
        "# menghilangkan karakter '$' pada kolom 'current_retail_price'\n",
        "df_product['current_retail_price'] = df_product['current_retail_price'].str.replace('$','')\n",
        "\n",
        "# mengubah tipe data kolom 'current_retail_price' menjadi float\n",
        "df_product['current_retail_price'] = df_product['current_retail_price'].astype(float)"
      ],
      "execution_count": 244,
      "outputs": []
    },
    {
      "cell_type": "code",
      "metadata": {
        "id": "b6Lsq_19zb5r",
        "colab": {
          "base_uri": "https://localhost:8080/"
        },
        "outputId": "9cfcf01f-0837-485d-c353-093387bd4150"
      },
      "source": [
        "# memeriksa tipe data tiap kolom df_product setelah dibersihkan\n",
        "df_product.info()"
      ],
      "execution_count": 245,
      "outputs": [
        {
          "output_type": "stream",
          "text": [
            "<class 'pandas.core.frame.DataFrame'>\n",
            "RangeIndex: 88 entries, 0 to 87\n",
            "Data columns (total 12 columns):\n",
            " #   Column                   Non-Null Count  Dtype  \n",
            "---  ------                   --------------  -----  \n",
            " 0   product_id               88 non-null     object \n",
            " 1   product_group            88 non-null     object \n",
            " 2   product_category         88 non-null     object \n",
            " 3   product_type             88 non-null     object \n",
            " 4   product                  88 non-null     object \n",
            " 5   product_description      88 non-null     object \n",
            " 6   unit_of_measure          88 non-null     object \n",
            " 7   current_wholesale_price  88 non-null     float64\n",
            " 8   current_retail_price     88 non-null     float64\n",
            " 9   tax_exempt_yn            88 non-null     object \n",
            " 10  promo_yn                 88 non-null     object \n",
            " 11  new_product_yn           88 non-null     object \n",
            "dtypes: float64(2), object(10)\n",
            "memory usage: 8.4+ KB\n"
          ],
          "name": "stdout"
        }
      ]
    },
    {
      "cell_type": "code",
      "metadata": {
        "id": "3CIzNgTzz3X1",
        "colab": {
          "base_uri": "https://localhost:8080/"
        },
        "outputId": "8918ba75-b7ad-4549-bb0e-0d3c96065ac5"
      },
      "source": [
        "# memeriksa apakah terdapat missing value\n",
        "df_product.isnull().any() ## tidak terdapat missing value"
      ],
      "execution_count": 246,
      "outputs": [
        {
          "output_type": "execute_result",
          "data": {
            "text/plain": [
              "product_id                 False\n",
              "product_group              False\n",
              "product_category           False\n",
              "product_type               False\n",
              "product                    False\n",
              "product_description        False\n",
              "unit_of_measure            False\n",
              "current_wholesale_price    False\n",
              "current_retail_price       False\n",
              "tax_exempt_yn              False\n",
              "promo_yn                   False\n",
              "new_product_yn             False\n",
              "dtype: bool"
            ]
          },
          "metadata": {
            "tags": []
          },
          "execution_count": 246
        }
      ]
    },
    {
      "cell_type": "code",
      "metadata": {
        "colab": {
          "base_uri": "https://localhost:8080/"
        },
        "id": "oJQhNNx99lWn",
        "outputId": "ec3fabf7-7f34-4012-d615-2ef309a7534a"
      },
      "source": [
        "# memeriksa apakah terdapat duplicate\n",
        "len(df_product['product_id'].unique())==len(df_product) ## tidak terdapat duplicate"
      ],
      "execution_count": 247,
      "outputs": [
        {
          "output_type": "execute_result",
          "data": {
            "text/plain": [
              "True"
            ]
          },
          "metadata": {
            "tags": []
          },
          "execution_count": 247
        }
      ]
    },
    {
      "cell_type": "code",
      "metadata": {
        "colab": {
          "base_uri": "https://localhost:8080/",
          "height": 389
        },
        "id": "sBQr-_-2cNii",
        "outputId": "e51c8488-c44d-44a7-ab35-d66c0dfd8210"
      },
      "source": [
        "df_product.head()"
      ],
      "execution_count": 248,
      "outputs": [
        {
          "output_type": "execute_result",
          "data": {
            "text/html": [
              "<div>\n",
              "<style scoped>\n",
              "    .dataframe tbody tr th:only-of-type {\n",
              "        vertical-align: middle;\n",
              "    }\n",
              "\n",
              "    .dataframe tbody tr th {\n",
              "        vertical-align: top;\n",
              "    }\n",
              "\n",
              "    .dataframe thead th {\n",
              "        text-align: right;\n",
              "    }\n",
              "</style>\n",
              "<table border=\"1\" class=\"dataframe\">\n",
              "  <thead>\n",
              "    <tr style=\"text-align: right;\">\n",
              "      <th></th>\n",
              "      <th>product_id</th>\n",
              "      <th>product_group</th>\n",
              "      <th>product_category</th>\n",
              "      <th>product_type</th>\n",
              "      <th>product</th>\n",
              "      <th>product_description</th>\n",
              "      <th>unit_of_measure</th>\n",
              "      <th>current_wholesale_price</th>\n",
              "      <th>current_retail_price</th>\n",
              "      <th>tax_exempt_yn</th>\n",
              "      <th>promo_yn</th>\n",
              "      <th>new_product_yn</th>\n",
              "    </tr>\n",
              "  </thead>\n",
              "  <tbody>\n",
              "    <tr>\n",
              "      <th>0</th>\n",
              "      <td>1</td>\n",
              "      <td>Whole Bean/Teas</td>\n",
              "      <td>Coffee beans</td>\n",
              "      <td>Organic Beans</td>\n",
              "      <td>Brazilian - Organic</td>\n",
              "      <td>It's like Carnival in a cup. Clean and smooth.</td>\n",
              "      <td>12 oz</td>\n",
              "      <td>14.40</td>\n",
              "      <td>18.00</td>\n",
              "      <td>Y</td>\n",
              "      <td>N</td>\n",
              "      <td>N</td>\n",
              "    </tr>\n",
              "    <tr>\n",
              "      <th>1</th>\n",
              "      <td>2</td>\n",
              "      <td>Whole Bean/Teas</td>\n",
              "      <td>Coffee beans</td>\n",
              "      <td>House blend Beans</td>\n",
              "      <td>Our Old Time Diner Blend</td>\n",
              "      <td>Out packed blend of beans that is reminiscent ...</td>\n",
              "      <td>12 oz</td>\n",
              "      <td>14.40</td>\n",
              "      <td>18.00</td>\n",
              "      <td>Y</td>\n",
              "      <td>N</td>\n",
              "      <td>N</td>\n",
              "    </tr>\n",
              "    <tr>\n",
              "      <th>2</th>\n",
              "      <td>3</td>\n",
              "      <td>Whole Bean/Teas</td>\n",
              "      <td>Coffee beans</td>\n",
              "      <td>Espresso Beans</td>\n",
              "      <td>Espresso Roast</td>\n",
              "      <td>Our house blend for a good espresso shot.</td>\n",
              "      <td>1 lb</td>\n",
              "      <td>11.80</td>\n",
              "      <td>14.75</td>\n",
              "      <td>Y</td>\n",
              "      <td>N</td>\n",
              "      <td>N</td>\n",
              "    </tr>\n",
              "    <tr>\n",
              "      <th>3</th>\n",
              "      <td>4</td>\n",
              "      <td>Whole Bean/Teas</td>\n",
              "      <td>Coffee beans</td>\n",
              "      <td>Espresso Beans</td>\n",
              "      <td>Primo Espresso Roast</td>\n",
              "      <td>Our primium single source of hand roasted beans.</td>\n",
              "      <td>1 lb</td>\n",
              "      <td>16.36</td>\n",
              "      <td>20.45</td>\n",
              "      <td>Y</td>\n",
              "      <td>N</td>\n",
              "      <td>N</td>\n",
              "    </tr>\n",
              "    <tr>\n",
              "      <th>4</th>\n",
              "      <td>5</td>\n",
              "      <td>Whole Bean/Teas</td>\n",
              "      <td>Coffee beans</td>\n",
              "      <td>Gourmet Beans</td>\n",
              "      <td>Columbian Medium Roast</td>\n",
              "      <td>A smooth cup of coffee any time of day.</td>\n",
              "      <td>1 lb</td>\n",
              "      <td>12.00</td>\n",
              "      <td>15.00</td>\n",
              "      <td>Y</td>\n",
              "      <td>N</td>\n",
              "      <td>N</td>\n",
              "    </tr>\n",
              "  </tbody>\n",
              "</table>\n",
              "</div>"
            ],
            "text/plain": [
              "  product_id    product_group  ... promo_yn new_product_yn\n",
              "0          1  Whole Bean/Teas  ...        N              N\n",
              "1          2  Whole Bean/Teas  ...        N              N\n",
              "2          3  Whole Bean/Teas  ...        N              N\n",
              "3          4  Whole Bean/Teas  ...        N              N\n",
              "4          5  Whole Bean/Teas  ...        N              N\n",
              "\n",
              "[5 rows x 12 columns]"
            ]
          },
          "metadata": {
            "tags": []
          },
          "execution_count": 248
        }
      ]
    },
    {
      "cell_type": "markdown",
      "metadata": {
        "id": "Vv8M8jTn2yzc"
      },
      "source": [
        "*Pembersihan data df_sales_outlet*"
      ]
    },
    {
      "cell_type": "code",
      "metadata": {
        "id": "7MbupKWF26rF",
        "colab": {
          "base_uri": "https://localhost:8080/",
          "height": 304
        },
        "outputId": "d3e8855e-4c0b-4ba5-831f-a8bab73f6e33"
      },
      "source": [
        "df_sales_outlet.head()"
      ],
      "execution_count": 249,
      "outputs": [
        {
          "output_type": "execute_result",
          "data": {
            "text/html": [
              "<div>\n",
              "<style scoped>\n",
              "    .dataframe tbody tr th:only-of-type {\n",
              "        vertical-align: middle;\n",
              "    }\n",
              "\n",
              "    .dataframe tbody tr th {\n",
              "        vertical-align: top;\n",
              "    }\n",
              "\n",
              "    .dataframe thead th {\n",
              "        text-align: right;\n",
              "    }\n",
              "</style>\n",
              "<table border=\"1\" class=\"dataframe\">\n",
              "  <thead>\n",
              "    <tr style=\"text-align: right;\">\n",
              "      <th></th>\n",
              "      <th>sales_outlet_id</th>\n",
              "      <th>sales_outlet_type</th>\n",
              "      <th>store_square_feet</th>\n",
              "      <th>store_address</th>\n",
              "      <th>store_city</th>\n",
              "      <th>store_state_province</th>\n",
              "      <th>store_telephone</th>\n",
              "      <th>store_postal_code</th>\n",
              "      <th>store_longitude</th>\n",
              "      <th>store_latitude</th>\n",
              "      <th>manager</th>\n",
              "      <th>Neighorhood</th>\n",
              "    </tr>\n",
              "  </thead>\n",
              "  <tbody>\n",
              "    <tr>\n",
              "      <th>0</th>\n",
              "      <td>2</td>\n",
              "      <td>warehouse</td>\n",
              "      <td>3400</td>\n",
              "      <td>164-14 Jamaica Ave</td>\n",
              "      <td>Jamaica</td>\n",
              "      <td>NY</td>\n",
              "      <td>972-871-0402</td>\n",
              "      <td>11432</td>\n",
              "      <td>-73.795168</td>\n",
              "      <td>40.705226</td>\n",
              "      <td>NaN</td>\n",
              "      <td>Jamaica</td>\n",
              "    </tr>\n",
              "    <tr>\n",
              "      <th>1</th>\n",
              "      <td>3</td>\n",
              "      <td>retail</td>\n",
              "      <td>1300</td>\n",
              "      <td>32-20 Broadway</td>\n",
              "      <td>Long Island City</td>\n",
              "      <td>NY</td>\n",
              "      <td>777-718-3190</td>\n",
              "      <td>11106</td>\n",
              "      <td>-73.924008</td>\n",
              "      <td>40.761196</td>\n",
              "      <td>6.0</td>\n",
              "      <td>Astoria</td>\n",
              "    </tr>\n",
              "    <tr>\n",
              "      <th>2</th>\n",
              "      <td>4</td>\n",
              "      <td>retail</td>\n",
              "      <td>1300</td>\n",
              "      <td>604 Union Street</td>\n",
              "      <td>Brooklyn</td>\n",
              "      <td>NY</td>\n",
              "      <td>619-347-5193</td>\n",
              "      <td>11215</td>\n",
              "      <td>-73.983984</td>\n",
              "      <td>40.677645</td>\n",
              "      <td>11.0</td>\n",
              "      <td>Gowanus</td>\n",
              "    </tr>\n",
              "    <tr>\n",
              "      <th>3</th>\n",
              "      <td>5</td>\n",
              "      <td>retail</td>\n",
              "      <td>900</td>\n",
              "      <td>100 Church Street</td>\n",
              "      <td>New York</td>\n",
              "      <td>NY</td>\n",
              "      <td>343-212-5151</td>\n",
              "      <td>10007</td>\n",
              "      <td>-74.010130</td>\n",
              "      <td>40.713290</td>\n",
              "      <td>16.0</td>\n",
              "      <td>Lower Manhattan</td>\n",
              "    </tr>\n",
              "    <tr>\n",
              "      <th>4</th>\n",
              "      <td>6</td>\n",
              "      <td>retail</td>\n",
              "      <td>1000</td>\n",
              "      <td>122 E Broadway</td>\n",
              "      <td>New York</td>\n",
              "      <td>NY</td>\n",
              "      <td>613-555-4989</td>\n",
              "      <td>10002</td>\n",
              "      <td>-73.992687</td>\n",
              "      <td>40.713852</td>\n",
              "      <td>21.0</td>\n",
              "      <td>Lower East Side</td>\n",
              "    </tr>\n",
              "  </tbody>\n",
              "</table>\n",
              "</div>"
            ],
            "text/plain": [
              "   sales_outlet_id sales_outlet_type  ...  manager      Neighorhood\n",
              "0                2         warehouse  ...      NaN          Jamaica\n",
              "1                3            retail  ...      6.0          Astoria\n",
              "2                4            retail  ...     11.0          Gowanus\n",
              "3                5            retail  ...     16.0  Lower Manhattan\n",
              "4                6            retail  ...     21.0  Lower East Side\n",
              "\n",
              "[5 rows x 12 columns]"
            ]
          },
          "metadata": {
            "tags": []
          },
          "execution_count": 249
        }
      ]
    },
    {
      "cell_type": "code",
      "metadata": {
        "colab": {
          "base_uri": "https://localhost:8080/"
        },
        "id": "7N8R8oNP989q",
        "outputId": "b4979122-4f4d-49f2-e5ba-326b17789ec4"
      },
      "source": [
        "# memeriksa tipe data tiap kolom df_sales_outlet\n",
        "df_sales_outlet.info()"
      ],
      "execution_count": 250,
      "outputs": [
        {
          "output_type": "stream",
          "text": [
            "<class 'pandas.core.frame.DataFrame'>\n",
            "RangeIndex: 9 entries, 0 to 8\n",
            "Data columns (total 12 columns):\n",
            " #   Column                Non-Null Count  Dtype  \n",
            "---  ------                --------------  -----  \n",
            " 0   sales_outlet_id       9 non-null      int64  \n",
            " 1   sales_outlet_type     9 non-null      object \n",
            " 2   store_square_feet     9 non-null      int64  \n",
            " 3   store_address         9 non-null      object \n",
            " 4   store_city            9 non-null      object \n",
            " 5   store_state_province  9 non-null      object \n",
            " 6   store_telephone       9 non-null      object \n",
            " 7   store_postal_code     9 non-null      int64  \n",
            " 8   store_longitude       9 non-null      float64\n",
            " 9   store_latitude        9 non-null      float64\n",
            " 10  manager               8 non-null      float64\n",
            " 11  Neighorhood           9 non-null      object \n",
            "dtypes: float64(3), int64(3), object(6)\n",
            "memory usage: 992.0+ bytes\n"
          ],
          "name": "stdout"
        }
      ]
    },
    {
      "cell_type": "code",
      "metadata": {
        "colab": {
          "base_uri": "https://localhost:8080/"
        },
        "id": "rjC6tQsb-IEU",
        "outputId": "18307435-49ac-47e2-ab81-21ba2f4c5bd7"
      },
      "source": [
        "# memeriksa apakah terdapat missing value\n",
        "df_sales_outlet.isnull().any() # terdapat missing value pada kolom 'manager'"
      ],
      "execution_count": 251,
      "outputs": [
        {
          "output_type": "execute_result",
          "data": {
            "text/plain": [
              "sales_outlet_id         False\n",
              "sales_outlet_type       False\n",
              "store_square_feet       False\n",
              "store_address           False\n",
              "store_city              False\n",
              "store_state_province    False\n",
              "store_telephone         False\n",
              "store_postal_code       False\n",
              "store_longitude         False\n",
              "store_latitude          False\n",
              "manager                  True\n",
              "Neighorhood             False\n",
              "dtype: bool"
            ]
          },
          "metadata": {
            "tags": []
          },
          "execution_count": 251
        }
      ]
    },
    {
      "cell_type": "code",
      "metadata": {
        "colab": {
          "base_uri": "https://localhost:8080/"
        },
        "id": "EKvdwpHR-a6W",
        "outputId": "29cb44cb-6138-4af3-c884-0281dd4b1214"
      },
      "source": [
        "# memeriksa apakah terdapat duplicate\n",
        "len(df_sales_outlet['sales_outlet_id'].unique())==len(df_sales_outlet) # tidak terdapat duplicate"
      ],
      "execution_count": 252,
      "outputs": [
        {
          "output_type": "execute_result",
          "data": {
            "text/plain": [
              "True"
            ]
          },
          "metadata": {
            "tags": []
          },
          "execution_count": 252
        }
      ]
    },
    {
      "cell_type": "code",
      "metadata": {
        "id": "p_cjdSSB-teG"
      },
      "source": [
        "# pembersihan data df_sales_outlet\n",
        "\n",
        "# mengubah nama kolom 'Neighorhood' menjadi 'neighborhood'\n",
        "df_sales_outlet = df_sales_outlet.rename(columns={'Neighorhood':'neighborhood'})\n",
        "\n",
        "# mengubah tipe data kolom menjadi string\n",
        "cols = ['sales_outlet_id', 'store_postal_code']\n",
        "\n",
        "for col in cols:\n",
        "  df_sales_outlet[col] = df_sales_outlet[col].astype(str)\n",
        "\n",
        "# mengisi missing value pada kolom 'manager' dengan nilai baris sesudahnya\n",
        "df_sales_outlet['manager'] = df_sales_outlet['manager'].fillna(method='bfill')"
      ],
      "execution_count": 253,
      "outputs": []
    },
    {
      "cell_type": "code",
      "metadata": {
        "colab": {
          "base_uri": "https://localhost:8080/",
          "height": 304
        },
        "id": "iMW4s1TCJj9v",
        "outputId": "85e7f501-38c7-47b6-b619-bba508e59d9c"
      },
      "source": [
        "df_sales_outlet.head()"
      ],
      "execution_count": 254,
      "outputs": [
        {
          "output_type": "execute_result",
          "data": {
            "text/html": [
              "<div>\n",
              "<style scoped>\n",
              "    .dataframe tbody tr th:only-of-type {\n",
              "        vertical-align: middle;\n",
              "    }\n",
              "\n",
              "    .dataframe tbody tr th {\n",
              "        vertical-align: top;\n",
              "    }\n",
              "\n",
              "    .dataframe thead th {\n",
              "        text-align: right;\n",
              "    }\n",
              "</style>\n",
              "<table border=\"1\" class=\"dataframe\">\n",
              "  <thead>\n",
              "    <tr style=\"text-align: right;\">\n",
              "      <th></th>\n",
              "      <th>sales_outlet_id</th>\n",
              "      <th>sales_outlet_type</th>\n",
              "      <th>store_square_feet</th>\n",
              "      <th>store_address</th>\n",
              "      <th>store_city</th>\n",
              "      <th>store_state_province</th>\n",
              "      <th>store_telephone</th>\n",
              "      <th>store_postal_code</th>\n",
              "      <th>store_longitude</th>\n",
              "      <th>store_latitude</th>\n",
              "      <th>manager</th>\n",
              "      <th>neighborhood</th>\n",
              "    </tr>\n",
              "  </thead>\n",
              "  <tbody>\n",
              "    <tr>\n",
              "      <th>0</th>\n",
              "      <td>2</td>\n",
              "      <td>warehouse</td>\n",
              "      <td>3400</td>\n",
              "      <td>164-14 Jamaica Ave</td>\n",
              "      <td>Jamaica</td>\n",
              "      <td>NY</td>\n",
              "      <td>972-871-0402</td>\n",
              "      <td>11432</td>\n",
              "      <td>-73.795168</td>\n",
              "      <td>40.705226</td>\n",
              "      <td>6.0</td>\n",
              "      <td>Jamaica</td>\n",
              "    </tr>\n",
              "    <tr>\n",
              "      <th>1</th>\n",
              "      <td>3</td>\n",
              "      <td>retail</td>\n",
              "      <td>1300</td>\n",
              "      <td>32-20 Broadway</td>\n",
              "      <td>Long Island City</td>\n",
              "      <td>NY</td>\n",
              "      <td>777-718-3190</td>\n",
              "      <td>11106</td>\n",
              "      <td>-73.924008</td>\n",
              "      <td>40.761196</td>\n",
              "      <td>6.0</td>\n",
              "      <td>Astoria</td>\n",
              "    </tr>\n",
              "    <tr>\n",
              "      <th>2</th>\n",
              "      <td>4</td>\n",
              "      <td>retail</td>\n",
              "      <td>1300</td>\n",
              "      <td>604 Union Street</td>\n",
              "      <td>Brooklyn</td>\n",
              "      <td>NY</td>\n",
              "      <td>619-347-5193</td>\n",
              "      <td>11215</td>\n",
              "      <td>-73.983984</td>\n",
              "      <td>40.677645</td>\n",
              "      <td>11.0</td>\n",
              "      <td>Gowanus</td>\n",
              "    </tr>\n",
              "    <tr>\n",
              "      <th>3</th>\n",
              "      <td>5</td>\n",
              "      <td>retail</td>\n",
              "      <td>900</td>\n",
              "      <td>100 Church Street</td>\n",
              "      <td>New York</td>\n",
              "      <td>NY</td>\n",
              "      <td>343-212-5151</td>\n",
              "      <td>10007</td>\n",
              "      <td>-74.010130</td>\n",
              "      <td>40.713290</td>\n",
              "      <td>16.0</td>\n",
              "      <td>Lower Manhattan</td>\n",
              "    </tr>\n",
              "    <tr>\n",
              "      <th>4</th>\n",
              "      <td>6</td>\n",
              "      <td>retail</td>\n",
              "      <td>1000</td>\n",
              "      <td>122 E Broadway</td>\n",
              "      <td>New York</td>\n",
              "      <td>NY</td>\n",
              "      <td>613-555-4989</td>\n",
              "      <td>10002</td>\n",
              "      <td>-73.992687</td>\n",
              "      <td>40.713852</td>\n",
              "      <td>21.0</td>\n",
              "      <td>Lower East Side</td>\n",
              "    </tr>\n",
              "  </tbody>\n",
              "</table>\n",
              "</div>"
            ],
            "text/plain": [
              "  sales_outlet_id sales_outlet_type  ...  manager     neighborhood\n",
              "0               2         warehouse  ...      6.0          Jamaica\n",
              "1               3            retail  ...      6.0          Astoria\n",
              "2               4            retail  ...     11.0          Gowanus\n",
              "3               5            retail  ...     16.0  Lower Manhattan\n",
              "4               6            retail  ...     21.0  Lower East Side\n",
              "\n",
              "[5 rows x 12 columns]"
            ]
          },
          "metadata": {
            "tags": []
          },
          "execution_count": 254
        }
      ]
    },
    {
      "cell_type": "markdown",
      "metadata": {
        "id": "qashJvSPKBty"
      },
      "source": [
        "*Pembersihan data df_sales_receipts*"
      ]
    },
    {
      "cell_type": "code",
      "metadata": {
        "colab": {
          "base_uri": "https://localhost:8080/",
          "height": 219
        },
        "id": "IhJ-hc20KNDP",
        "outputId": "6fc3d668-19b0-4c4d-f0bf-038c370660f0"
      },
      "source": [
        "df_sales_reciepts.head()"
      ],
      "execution_count": 255,
      "outputs": [
        {
          "output_type": "execute_result",
          "data": {
            "text/html": [
              "<div>\n",
              "<style scoped>\n",
              "    .dataframe tbody tr th:only-of-type {\n",
              "        vertical-align: middle;\n",
              "    }\n",
              "\n",
              "    .dataframe tbody tr th {\n",
              "        vertical-align: top;\n",
              "    }\n",
              "\n",
              "    .dataframe thead th {\n",
              "        text-align: right;\n",
              "    }\n",
              "</style>\n",
              "<table border=\"1\" class=\"dataframe\">\n",
              "  <thead>\n",
              "    <tr style=\"text-align: right;\">\n",
              "      <th></th>\n",
              "      <th>transaction_id</th>\n",
              "      <th>transaction_date</th>\n",
              "      <th>transaction_time</th>\n",
              "      <th>sales_outlet_id</th>\n",
              "      <th>staff_id</th>\n",
              "      <th>customer_id</th>\n",
              "      <th>instore_yn</th>\n",
              "      <th>order</th>\n",
              "      <th>line_item_id</th>\n",
              "      <th>product_id</th>\n",
              "      <th>quantity</th>\n",
              "      <th>line_item_amount</th>\n",
              "      <th>unit_price</th>\n",
              "      <th>promo_item_yn</th>\n",
              "    </tr>\n",
              "  </thead>\n",
              "  <tbody>\n",
              "    <tr>\n",
              "      <th>0</th>\n",
              "      <td>7</td>\n",
              "      <td>2019-04-01</td>\n",
              "      <td>12:04:43</td>\n",
              "      <td>3</td>\n",
              "      <td>12</td>\n",
              "      <td>558</td>\n",
              "      <td>N</td>\n",
              "      <td>1</td>\n",
              "      <td>1</td>\n",
              "      <td>52</td>\n",
              "      <td>1</td>\n",
              "      <td>2.50</td>\n",
              "      <td>2.50</td>\n",
              "      <td>N</td>\n",
              "    </tr>\n",
              "    <tr>\n",
              "      <th>1</th>\n",
              "      <td>11</td>\n",
              "      <td>2019-04-01</td>\n",
              "      <td>15:54:39</td>\n",
              "      <td>3</td>\n",
              "      <td>17</td>\n",
              "      <td>781</td>\n",
              "      <td>N</td>\n",
              "      <td>1</td>\n",
              "      <td>1</td>\n",
              "      <td>27</td>\n",
              "      <td>2</td>\n",
              "      <td>7.00</td>\n",
              "      <td>3.50</td>\n",
              "      <td>N</td>\n",
              "    </tr>\n",
              "    <tr>\n",
              "      <th>2</th>\n",
              "      <td>19</td>\n",
              "      <td>2019-04-01</td>\n",
              "      <td>14:34:59</td>\n",
              "      <td>3</td>\n",
              "      <td>17</td>\n",
              "      <td>788</td>\n",
              "      <td>Y</td>\n",
              "      <td>1</td>\n",
              "      <td>1</td>\n",
              "      <td>46</td>\n",
              "      <td>2</td>\n",
              "      <td>5.00</td>\n",
              "      <td>2.50</td>\n",
              "      <td>N</td>\n",
              "    </tr>\n",
              "    <tr>\n",
              "      <th>3</th>\n",
              "      <td>32</td>\n",
              "      <td>2019-04-01</td>\n",
              "      <td>16:06:04</td>\n",
              "      <td>3</td>\n",
              "      <td>12</td>\n",
              "      <td>683</td>\n",
              "      <td>N</td>\n",
              "      <td>1</td>\n",
              "      <td>1</td>\n",
              "      <td>23</td>\n",
              "      <td>2</td>\n",
              "      <td>5.00</td>\n",
              "      <td>2.50</td>\n",
              "      <td>N</td>\n",
              "    </tr>\n",
              "    <tr>\n",
              "      <th>4</th>\n",
              "      <td>33</td>\n",
              "      <td>2019-04-01</td>\n",
              "      <td>19:18:37</td>\n",
              "      <td>3</td>\n",
              "      <td>17</td>\n",
              "      <td>99</td>\n",
              "      <td>Y</td>\n",
              "      <td>1</td>\n",
              "      <td>1</td>\n",
              "      <td>34</td>\n",
              "      <td>1</td>\n",
              "      <td>2.45</td>\n",
              "      <td>2.45</td>\n",
              "      <td>N</td>\n",
              "    </tr>\n",
              "  </tbody>\n",
              "</table>\n",
              "</div>"
            ],
            "text/plain": [
              "   transaction_id transaction_date  ... unit_price  promo_item_yn\n",
              "0               7       2019-04-01  ...       2.50              N\n",
              "1              11       2019-04-01  ...       3.50              N\n",
              "2              19       2019-04-01  ...       2.50              N\n",
              "3              32       2019-04-01  ...       2.50              N\n",
              "4              33       2019-04-01  ...       2.45              N\n",
              "\n",
              "[5 rows x 14 columns]"
            ]
          },
          "metadata": {
            "tags": []
          },
          "execution_count": 255
        }
      ]
    },
    {
      "cell_type": "code",
      "metadata": {
        "colab": {
          "base_uri": "https://localhost:8080/"
        },
        "id": "rhukdVGvOtyx",
        "outputId": "05a0062a-490b-47c7-cab3-ee9542af22dc"
      },
      "source": [
        "# memeriksa tipe data setiap kolom df_sales_reciepts\n",
        "df_sales_reciepts.info()"
      ],
      "execution_count": 256,
      "outputs": [
        {
          "output_type": "stream",
          "text": [
            "<class 'pandas.core.frame.DataFrame'>\n",
            "RangeIndex: 49894 entries, 0 to 49893\n",
            "Data columns (total 14 columns):\n",
            " #   Column            Non-Null Count  Dtype  \n",
            "---  ------            --------------  -----  \n",
            " 0   transaction_id    49894 non-null  int64  \n",
            " 1   transaction_date  49894 non-null  object \n",
            " 2   transaction_time  49894 non-null  object \n",
            " 3   sales_outlet_id   49894 non-null  int64  \n",
            " 4   staff_id          49894 non-null  int64  \n",
            " 5   customer_id       49894 non-null  int64  \n",
            " 6   instore_yn        49894 non-null  object \n",
            " 7   order             49894 non-null  int64  \n",
            " 8   line_item_id      49894 non-null  int64  \n",
            " 9   product_id        49894 non-null  int64  \n",
            " 10  quantity          49894 non-null  int64  \n",
            " 11  line_item_amount  49894 non-null  float64\n",
            " 12  unit_price        49894 non-null  float64\n",
            " 13  promo_item_yn     49894 non-null  object \n",
            "dtypes: float64(2), int64(8), object(4)\n",
            "memory usage: 5.3+ MB\n"
          ],
          "name": "stdout"
        }
      ]
    },
    {
      "cell_type": "code",
      "metadata": {
        "colab": {
          "base_uri": "https://localhost:8080/"
        },
        "id": "v0pw6H7SO8q2",
        "outputId": "b10484b1-5733-407e-a4b0-460e1fbf3105"
      },
      "source": [
        "# memeriksa apakah terdapat missing value\n",
        "df_sales_reciepts.isnull().any() # tidak terdapat missing value"
      ],
      "execution_count": 257,
      "outputs": [
        {
          "output_type": "execute_result",
          "data": {
            "text/plain": [
              "transaction_id      False\n",
              "transaction_date    False\n",
              "transaction_time    False\n",
              "sales_outlet_id     False\n",
              "staff_id            False\n",
              "customer_id         False\n",
              "instore_yn          False\n",
              "order               False\n",
              "line_item_id        False\n",
              "product_id          False\n",
              "quantity            False\n",
              "line_item_amount    False\n",
              "unit_price          False\n",
              "promo_item_yn       False\n",
              "dtype: bool"
            ]
          },
          "metadata": {
            "tags": []
          },
          "execution_count": 257
        }
      ]
    },
    {
      "cell_type": "code",
      "metadata": {
        "id": "bi2seX28NFMx"
      },
      "source": [
        "def fill_with_random(df2, column):\n",
        "    df = df2.copy()\n",
        "    df[column] = df[column].apply(lambda x: np.random.choice(df[column].dropna().values) if np.isnan(x) else x)\n",
        "    return df"
      ],
      "execution_count": 258,
      "outputs": []
    },
    {
      "cell_type": "code",
      "metadata": {
        "id": "Ph8F51x3Sbfg"
      },
      "source": [
        "# mengubah tipe data menjadi string\n",
        "cols = ['transaction_id', 'sales_outlet_id', 'staff_id','line_item_id', 'product_id']\n",
        "\n",
        "for col in cols:\n",
        "  df_sales_reciepts[cols] = df_sales_reciepts[cols].astype(str)\n",
        "\n",
        "# mengubah tipe data kolom 'transaction_date' menjadi datetime\n",
        "df_sales_reciepts['transaction_date'] = pd.to_datetime(df_sales_reciepts['transaction_date'])\n",
        "\n",
        "# mengubah tipe data kolom 'transaction_time'\n",
        "df_sales_reciepts['transaction_time'] = pd.to_datetime(df_sales_reciepts['transaction_time'])\n",
        "\n",
        "# terdapat customer_id = 0 pada kolom 'customer_id' akan dipilih nilai random melalui nilai yang sudah tersedia untuk menggantikan nilai 0 tersebut\n",
        "df_sales_reciepts['customer_id'] = df_sales_reciepts['customer_id'].replace({0:np.nan})\n",
        "df_sales_reciepts = fill_with_random(df_sales_reciepts, 'customer_id')\n",
        "\n",
        "# mengubah tipe data kolom 'customer_id' jadi string\n",
        "df_sales_reciepts['customer_id'] = df_sales_reciepts['customer_id'].astype(int)\n",
        "df_sales_reciepts['customer_id'] = df_sales_reciepts['customer_id'].astype(str)\n",
        "                                                                      \n"
      ],
      "execution_count": 259,
      "outputs": []
    },
    {
      "cell_type": "code",
      "metadata": {
        "colab": {
          "base_uri": "https://localhost:8080/"
        },
        "id": "ieLS_rImVXPT",
        "outputId": "b6b04c34-4240-4f5f-c7bb-a902c3770f6d"
      },
      "source": [
        "df_sales_reciepts.info()"
      ],
      "execution_count": 260,
      "outputs": [
        {
          "output_type": "stream",
          "text": [
            "<class 'pandas.core.frame.DataFrame'>\n",
            "RangeIndex: 49894 entries, 0 to 49893\n",
            "Data columns (total 14 columns):\n",
            " #   Column            Non-Null Count  Dtype         \n",
            "---  ------            --------------  -----         \n",
            " 0   transaction_id    49894 non-null  object        \n",
            " 1   transaction_date  49894 non-null  datetime64[ns]\n",
            " 2   transaction_time  49894 non-null  datetime64[ns]\n",
            " 3   sales_outlet_id   49894 non-null  object        \n",
            " 4   staff_id          49894 non-null  object        \n",
            " 5   customer_id       49894 non-null  object        \n",
            " 6   instore_yn        49894 non-null  object        \n",
            " 7   order             49894 non-null  int64         \n",
            " 8   line_item_id      49894 non-null  object        \n",
            " 9   product_id        49894 non-null  object        \n",
            " 10  quantity          49894 non-null  int64         \n",
            " 11  line_item_amount  49894 non-null  float64       \n",
            " 12  unit_price        49894 non-null  float64       \n",
            " 13  promo_item_yn     49894 non-null  object        \n",
            "dtypes: datetime64[ns](2), float64(2), int64(2), object(8)\n",
            "memory usage: 5.3+ MB\n"
          ],
          "name": "stdout"
        }
      ]
    },
    {
      "cell_type": "code",
      "metadata": {
        "colab": {
          "base_uri": "https://localhost:8080/"
        },
        "id": "U76bX9myO7On",
        "outputId": "907283cc-006d-41bd-9db0-aa7b65eb7d44"
      },
      "source": [
        "# memeriksa tipe data setiap kolom df_sales_reciepts setelah diubah\n",
        "df_sales_reciepts.info()"
      ],
      "execution_count": 261,
      "outputs": [
        {
          "output_type": "stream",
          "text": [
            "<class 'pandas.core.frame.DataFrame'>\n",
            "RangeIndex: 49894 entries, 0 to 49893\n",
            "Data columns (total 14 columns):\n",
            " #   Column            Non-Null Count  Dtype         \n",
            "---  ------            --------------  -----         \n",
            " 0   transaction_id    49894 non-null  object        \n",
            " 1   transaction_date  49894 non-null  datetime64[ns]\n",
            " 2   transaction_time  49894 non-null  datetime64[ns]\n",
            " 3   sales_outlet_id   49894 non-null  object        \n",
            " 4   staff_id          49894 non-null  object        \n",
            " 5   customer_id       49894 non-null  object        \n",
            " 6   instore_yn        49894 non-null  object        \n",
            " 7   order             49894 non-null  int64         \n",
            " 8   line_item_id      49894 non-null  object        \n",
            " 9   product_id        49894 non-null  object        \n",
            " 10  quantity          49894 non-null  int64         \n",
            " 11  line_item_amount  49894 non-null  float64       \n",
            " 12  unit_price        49894 non-null  float64       \n",
            " 13  promo_item_yn     49894 non-null  object        \n",
            "dtypes: datetime64[ns](2), float64(2), int64(2), object(8)\n",
            "memory usage: 5.3+ MB\n"
          ],
          "name": "stdout"
        }
      ]
    },
    {
      "cell_type": "markdown",
      "metadata": {
        "id": "QUlpaqeqMFn2"
      },
      "source": [
        "**EXPLORATORY DATA (Point 25)**"
      ]
    },
    {
      "cell_type": "markdown",
      "metadata": {
        "id": "RQd0lISz9wkq"
      },
      "source": [
        "a. Generasi mana yang lebih sering melakukan pembelian?"
      ]
    },
    {
      "cell_type": "code",
      "metadata": {
        "id": "LoQCVzZvRv2l"
      },
      "source": [
        "# merge tabel df_customer, df_generations, df_sales_reciepts\n",
        "df_customer_generations = df_customer.merge(df_generations, how='inner', on='birth_year')\n",
        "df_sales_reciepts_customer_generations = df_sales_reciepts.merge(df_customer_generations[['customer_id','generation']], how='left', on='customer_id')"
      ],
      "execution_count": 262,
      "outputs": []
    },
    {
      "cell_type": "code",
      "metadata": {
        "colab": {
          "base_uri": "https://localhost:8080/"
        },
        "id": "26TB3Q3nYDUf",
        "outputId": "6e13249a-b2c2-476d-dcd2-dbb29a4f5949"
      },
      "source": [
        "# melihat apakah ada null\n",
        "df_sales_reciepts_customer_generations.isnull().sum()\n",
        "\n",
        "# Terdapat null data. Hal ini terjadi karena terdapat beberapa customer_id yang terdapat pada data customer.csv. \n",
        "# Untuk mengatasi missing value, missing value akan diisi dengan modus"
      ],
      "execution_count": 263,
      "outputs": [
        {
          "output_type": "execute_result",
          "data": {
            "text/plain": [
              "transaction_id       0\n",
              "transaction_date     0\n",
              "transaction_time     0\n",
              "sales_outlet_id      0\n",
              "staff_id             0\n",
              "customer_id          0\n",
              "instore_yn           0\n",
              "order                0\n",
              "line_item_id         0\n",
              "product_id           0\n",
              "quantity             0\n",
              "line_item_amount     0\n",
              "unit_price           0\n",
              "promo_item_yn        0\n",
              "generation          17\n",
              "dtype: int64"
            ]
          },
          "metadata": {
            "tags": []
          },
          "execution_count": 263
        }
      ]
    },
    {
      "cell_type": "code",
      "metadata": {
        "id": "svNqWoS1aL3V"
      },
      "source": [
        "# mengisi nilai null\n",
        "df_sales_reciepts_customer_generations['generation'] = df_sales_reciepts_customer_generations['generation'].fillna('Baby Boomers')"
      ],
      "execution_count": 264,
      "outputs": []
    },
    {
      "cell_type": "code",
      "metadata": {
        "colab": {
          "base_uri": "https://localhost:8080/",
          "height": 230
        },
        "id": "M0Njgntdbpye",
        "outputId": "340b6c7c-ae54-4100-8001-eee05bb30217"
      },
      "source": [
        "# melakukan groupby berdasarkan 'generation'\n",
        "df1 = df_sales_reciepts_customer_generations.groupby(by='generation').count()[['transaction_id']]\n",
        "\n",
        "# mengubah nama kolom dan mengurutkan\n",
        "df1 = df1.rename(columns={'transaction_id':'banyak_transaksi'}).sort_values('banyak_transaksi', ascending=False)\n",
        "df1"
      ],
      "execution_count": 265,
      "outputs": [
        {
          "output_type": "execute_result",
          "data": {
            "text/html": [
              "<div>\n",
              "<style scoped>\n",
              "    .dataframe tbody tr th:only-of-type {\n",
              "        vertical-align: middle;\n",
              "    }\n",
              "\n",
              "    .dataframe tbody tr th {\n",
              "        vertical-align: top;\n",
              "    }\n",
              "\n",
              "    .dataframe thead th {\n",
              "        text-align: right;\n",
              "    }\n",
              "</style>\n",
              "<table border=\"1\" class=\"dataframe\">\n",
              "  <thead>\n",
              "    <tr style=\"text-align: right;\">\n",
              "      <th></th>\n",
              "      <th>banyak_transaksi</th>\n",
              "    </tr>\n",
              "    <tr>\n",
              "      <th>generation</th>\n",
              "      <th></th>\n",
              "    </tr>\n",
              "  </thead>\n",
              "  <tbody>\n",
              "    <tr>\n",
              "      <th>Baby Boomers</th>\n",
              "      <td>12158</td>\n",
              "    </tr>\n",
              "    <tr>\n",
              "      <th>Gen X</th>\n",
              "      <td>11450</td>\n",
              "    </tr>\n",
              "    <tr>\n",
              "      <th>Older Millennials</th>\n",
              "      <td>10982</td>\n",
              "    </tr>\n",
              "    <tr>\n",
              "      <th>Gen Z</th>\n",
              "      <td>8464</td>\n",
              "    </tr>\n",
              "    <tr>\n",
              "      <th>Younger Millennials</th>\n",
              "      <td>6840</td>\n",
              "    </tr>\n",
              "  </tbody>\n",
              "</table>\n",
              "</div>"
            ],
            "text/plain": [
              "                     banyak_transaksi\n",
              "generation                           \n",
              "Baby Boomers                    12158\n",
              "Gen X                           11450\n",
              "Older Millennials               10982\n",
              "Gen Z                            8464\n",
              "Younger Millennials              6840"
            ]
          },
          "metadata": {
            "tags": []
          },
          "execution_count": 265
        }
      ]
    },
    {
      "cell_type": "code",
      "metadata": {
        "colab": {
          "base_uri": "https://localhost:8080/",
          "height": 295
        },
        "id": "rrLaVLOuhM5l",
        "outputId": "85494842-9c37-44db-af02-da3c757b4c15"
      },
      "source": [
        "# plot\n",
        "\n",
        "xpos = np.arange(start=0, stop=10, step=2 )\n",
        "plt.bar(xpos, df1['banyak_transaksi'])\n",
        "plt.xticks(xpos, list(df1.index))\n",
        "plt.xlabel('Generasi')\n",
        "plt.ylabel('Banyak transaski')\n",
        "plt.title('Transaksi berdasarkan Segmentasi Generasi pada April 2019')\n",
        "plt.savefig('a.png', dpi=500, bbox_inches='tight')"
      ],
      "execution_count": 266,
      "outputs": [
        {
          "output_type": "display_data",
          "data": {
            "image/png": "[encoded data removed]",
            "text/plain": [
              "<Figure size 432x288 with 1 Axes>"
            ]
          },
          "metadata": {
            "tags": [],
            "needs_background": "light"
          }
        }
      ]
    },
    {
      "cell_type": "markdown",
      "metadata": {
        "id": "ZI2yWymmi7kX"
      },
      "source": [
        "b. Produk apa yang paling digemari oleh tiap generasi?"
      ]
    },
    {
      "cell_type": "code",
      "metadata": {
        "id": "Rk48Hn54xOEv"
      },
      "source": [
        "# merge tabel df_sales_receipts_customer_generations dengan df_product\n",
        "df_sales_reciepts_generations_product = df_sales_reciepts_customer_generations.merge(df_product, how='left', on='product_id')"
      ],
      "execution_count": 267,
      "outputs": []
    },
    {
      "cell_type": "code",
      "metadata": {
        "id": "uJPayaOhz_oV"
      },
      "source": [
        "# melakukan groupby berdasarkan kolom 'generation' dan 'product'\n",
        "df2 = df_sales_reciepts_generations_product.groupby(['generation', 'product'])[['quantity']].sum()"
      ],
      "execution_count": 268,
      "outputs": []
    },
    {
      "cell_type": "code",
      "metadata": {
        "colab": {
          "base_uri": "https://localhost:8080/",
          "height": 381
        },
        "id": "Jeu3UEMH0Zlt",
        "outputId": "b0399a91-4a38-48c1-d1c5-77b755d72971"
      },
      "source": [
        "# produk yang paling disukai generasi Baby Boomers\n",
        "df2.loc['Baby Boomers'].sort_values(by='quantity', ascending=False).nlargest(10,'quantity')"
      ],
      "execution_count": 269,
      "outputs": [
        {
          "output_type": "execute_result",
          "data": {
            "text/html": [
              "<div>\n",
              "<style scoped>\n",
              "    .dataframe tbody tr th:only-of-type {\n",
              "        vertical-align: middle;\n",
              "    }\n",
              "\n",
              "    .dataframe tbody tr th {\n",
              "        vertical-align: top;\n",
              "    }\n",
              "\n",
              "    .dataframe thead th {\n",
              "        text-align: right;\n",
              "    }\n",
              "</style>\n",
              "<table border=\"1\" class=\"dataframe\">\n",
              "  <thead>\n",
              "    <tr style=\"text-align: right;\">\n",
              "      <th></th>\n",
              "      <th>quantity</th>\n",
              "    </tr>\n",
              "    <tr>\n",
              "      <th>product</th>\n",
              "      <th></th>\n",
              "    </tr>\n",
              "  </thead>\n",
              "  <tbody>\n",
              "    <tr>\n",
              "      <th>Dark chocolate Lg</th>\n",
              "      <td>395</td>\n",
              "    </tr>\n",
              "    <tr>\n",
              "      <th>Latte Rg</th>\n",
              "      <td>394</td>\n",
              "    </tr>\n",
              "    <tr>\n",
              "      <th>Latte</th>\n",
              "      <td>391</td>\n",
              "    </tr>\n",
              "    <tr>\n",
              "      <th>Earl Grey Rg</th>\n",
              "      <td>389</td>\n",
              "    </tr>\n",
              "    <tr>\n",
              "      <th>Cappuccino</th>\n",
              "      <td>387</td>\n",
              "    </tr>\n",
              "    <tr>\n",
              "      <th>Our Old Time Diner Blend Sm</th>\n",
              "      <td>385</td>\n",
              "    </tr>\n",
              "    <tr>\n",
              "      <th>Columbian Medium Roast Sm</th>\n",
              "      <td>378</td>\n",
              "    </tr>\n",
              "    <tr>\n",
              "      <th>Traditional Blend Chai Rg</th>\n",
              "      <td>375</td>\n",
              "    </tr>\n",
              "    <tr>\n",
              "      <th>Cappuccino Lg</th>\n",
              "      <td>375</td>\n",
              "    </tr>\n",
              "    <tr>\n",
              "      <th>Our Old Time Diner Blend Lg</th>\n",
              "      <td>369</td>\n",
              "    </tr>\n",
              "  </tbody>\n",
              "</table>\n",
              "</div>"
            ],
            "text/plain": [
              "                             quantity\n",
              "product                              \n",
              "Dark chocolate Lg                 395\n",
              "Latte Rg                          394\n",
              "Latte                             391\n",
              "Earl Grey Rg                      389\n",
              "Cappuccino                        387\n",
              "Our Old Time Diner Blend Sm       385\n",
              "Columbian Medium Roast Sm         378\n",
              "Traditional Blend Chai Rg         375\n",
              "Cappuccino Lg                     375\n",
              "Our Old Time Diner Blend Lg       369"
            ]
          },
          "metadata": {
            "tags": []
          },
          "execution_count": 269
        }
      ]
    },
    {
      "cell_type": "code",
      "metadata": {
        "colab": {
          "base_uri": "https://localhost:8080/",
          "height": 381
        },
        "id": "SF76lOOk2IU9",
        "outputId": "e789537f-e13a-4677-cc88-80839d3ab946"
      },
      "source": [
        "# produk yang paling disukai generasi Gen X\n",
        "df2.loc['Gen X'].sort_values(by='quantity', ascending=False).nlargest(10,'quantity')"
      ],
      "execution_count": 270,
      "outputs": [
        {
          "output_type": "execute_result",
          "data": {
            "text/html": [
              "<div>\n",
              "<style scoped>\n",
              "    .dataframe tbody tr th:only-of-type {\n",
              "        vertical-align: middle;\n",
              "    }\n",
              "\n",
              "    .dataframe tbody tr th {\n",
              "        vertical-align: top;\n",
              "    }\n",
              "\n",
              "    .dataframe thead th {\n",
              "        text-align: right;\n",
              "    }\n",
              "</style>\n",
              "<table border=\"1\" class=\"dataframe\">\n",
              "  <thead>\n",
              "    <tr style=\"text-align: right;\">\n",
              "      <th></th>\n",
              "      <th>quantity</th>\n",
              "    </tr>\n",
              "    <tr>\n",
              "      <th>product</th>\n",
              "      <th></th>\n",
              "    </tr>\n",
              "  </thead>\n",
              "  <tbody>\n",
              "    <tr>\n",
              "      <th>Lemon Grass Lg</th>\n",
              "      <td>383</td>\n",
              "    </tr>\n",
              "    <tr>\n",
              "      <th>Sustainably Grown Organic Lg</th>\n",
              "      <td>374</td>\n",
              "    </tr>\n",
              "    <tr>\n",
              "      <th>Ethiopia Sm</th>\n",
              "      <td>372</td>\n",
              "    </tr>\n",
              "    <tr>\n",
              "      <th>Sustainably Grown Organic Rg</th>\n",
              "      <td>367</td>\n",
              "    </tr>\n",
              "    <tr>\n",
              "      <th>Our Old Time Diner Blend Rg</th>\n",
              "      <td>366</td>\n",
              "    </tr>\n",
              "    <tr>\n",
              "      <th>Earl Grey Rg</th>\n",
              "      <td>365</td>\n",
              "    </tr>\n",
              "    <tr>\n",
              "      <th>Columbian Medium Roast Rg</th>\n",
              "      <td>364</td>\n",
              "    </tr>\n",
              "    <tr>\n",
              "      <th>Dark chocolate Lg</th>\n",
              "      <td>358</td>\n",
              "    </tr>\n",
              "    <tr>\n",
              "      <th>Jamaican Coffee River Lg</th>\n",
              "      <td>357</td>\n",
              "    </tr>\n",
              "    <tr>\n",
              "      <th>Espresso shot</th>\n",
              "      <td>354</td>\n",
              "    </tr>\n",
              "  </tbody>\n",
              "</table>\n",
              "</div>"
            ],
            "text/plain": [
              "                              quantity\n",
              "product                               \n",
              "Lemon Grass Lg                     383\n",
              "Sustainably Grown Organic Lg       374\n",
              "Ethiopia Sm                        372\n",
              "Sustainably Grown Organic Rg       367\n",
              "Our Old Time Diner Blend Rg        366\n",
              "Earl Grey Rg                       365\n",
              "Columbian Medium Roast Rg          364\n",
              "Dark chocolate Lg                  358\n",
              "Jamaican Coffee River Lg           357\n",
              "Espresso shot                      354"
            ]
          },
          "metadata": {
            "tags": []
          },
          "execution_count": 270
        }
      ]
    },
    {
      "cell_type": "code",
      "metadata": {
        "colab": {
          "base_uri": "https://localhost:8080/",
          "height": 381
        },
        "id": "mxXiioYz2WlE",
        "outputId": "0ec65339-4edd-4825-fbc6-d5acbbbf8620"
      },
      "source": [
        "# produk yang paling disukai generasi Older Millenials\n",
        "df2.loc['Older Millennials'].sort_values(by='quantity', ascending=False).nlargest(10,'quantity')"
      ],
      "execution_count": 271,
      "outputs": [
        {
          "output_type": "execute_result",
          "data": {
            "text/html": [
              "<div>\n",
              "<style scoped>\n",
              "    .dataframe tbody tr th:only-of-type {\n",
              "        vertical-align: middle;\n",
              "    }\n",
              "\n",
              "    .dataframe tbody tr th {\n",
              "        vertical-align: top;\n",
              "    }\n",
              "\n",
              "    .dataframe thead th {\n",
              "        text-align: right;\n",
              "    }\n",
              "</style>\n",
              "<table border=\"1\" class=\"dataframe\">\n",
              "  <thead>\n",
              "    <tr style=\"text-align: right;\">\n",
              "      <th></th>\n",
              "      <th>quantity</th>\n",
              "    </tr>\n",
              "    <tr>\n",
              "      <th>product</th>\n",
              "      <th></th>\n",
              "    </tr>\n",
              "  </thead>\n",
              "  <tbody>\n",
              "    <tr>\n",
              "      <th>Morning Sunrise Chai Rg</th>\n",
              "      <td>384</td>\n",
              "    </tr>\n",
              "    <tr>\n",
              "      <th>Jamaican Coffee River Lg</th>\n",
              "      <td>370</td>\n",
              "    </tr>\n",
              "    <tr>\n",
              "      <th>Ethiopia Sm</th>\n",
              "      <td>361</td>\n",
              "    </tr>\n",
              "    <tr>\n",
              "      <th>Peppermint Lg</th>\n",
              "      <td>358</td>\n",
              "    </tr>\n",
              "    <tr>\n",
              "      <th>Serenity Green Tea Rg</th>\n",
              "      <td>354</td>\n",
              "    </tr>\n",
              "    <tr>\n",
              "      <th>Latte</th>\n",
              "      <td>350</td>\n",
              "    </tr>\n",
              "    <tr>\n",
              "      <th>Columbian Medium Roast Lg</th>\n",
              "      <td>349</td>\n",
              "    </tr>\n",
              "    <tr>\n",
              "      <th>Sustainably Grown Organic Rg</th>\n",
              "      <td>344</td>\n",
              "    </tr>\n",
              "    <tr>\n",
              "      <th>Columbian Medium Roast Rg</th>\n",
              "      <td>343</td>\n",
              "    </tr>\n",
              "    <tr>\n",
              "      <th>Jamaican Coffee River Rg</th>\n",
              "      <td>341</td>\n",
              "    </tr>\n",
              "  </tbody>\n",
              "</table>\n",
              "</div>"
            ],
            "text/plain": [
              "                              quantity\n",
              "product                               \n",
              "Morning Sunrise Chai Rg            384\n",
              "Jamaican Coffee River Lg           370\n",
              "Ethiopia Sm                        361\n",
              "Peppermint Lg                      358\n",
              "Serenity Green Tea Rg              354\n",
              "Latte                              350\n",
              "Columbian Medium Roast Lg          349\n",
              "Sustainably Grown Organic Rg       344\n",
              "Columbian Medium Roast Rg          343\n",
              "Jamaican Coffee River Rg           341"
            ]
          },
          "metadata": {
            "tags": []
          },
          "execution_count": 271
        }
      ]
    },
    {
      "cell_type": "code",
      "metadata": {
        "colab": {
          "base_uri": "https://localhost:8080/",
          "height": 381
        },
        "id": "X537QtoL2vgG",
        "outputId": "12af80ac-431e-4907-b839-aa9b2b8e34fa"
      },
      "source": [
        "# produk yang paling disukai generasi Gen Z\n",
        "df2.loc['Gen Z'].sort_values(by='quantity', ascending=False).nlargest(10,'quantity')"
      ],
      "execution_count": 272,
      "outputs": [
        {
          "output_type": "execute_result",
          "data": {
            "text/html": [
              "<div>\n",
              "<style scoped>\n",
              "    .dataframe tbody tr th:only-of-type {\n",
              "        vertical-align: middle;\n",
              "    }\n",
              "\n",
              "    .dataframe tbody tr th {\n",
              "        vertical-align: top;\n",
              "    }\n",
              "\n",
              "    .dataframe thead th {\n",
              "        text-align: right;\n",
              "    }\n",
              "</style>\n",
              "<table border=\"1\" class=\"dataframe\">\n",
              "  <thead>\n",
              "    <tr style=\"text-align: right;\">\n",
              "      <th></th>\n",
              "      <th>quantity</th>\n",
              "    </tr>\n",
              "    <tr>\n",
              "      <th>product</th>\n",
              "      <th></th>\n",
              "    </tr>\n",
              "  </thead>\n",
              "  <tbody>\n",
              "    <tr>\n",
              "      <th>Brazilian Rg</th>\n",
              "      <td>291</td>\n",
              "    </tr>\n",
              "    <tr>\n",
              "      <th>Morning Sunrise Chai Lg</th>\n",
              "      <td>286</td>\n",
              "    </tr>\n",
              "    <tr>\n",
              "      <th>Dark chocolate Lg</th>\n",
              "      <td>285</td>\n",
              "    </tr>\n",
              "    <tr>\n",
              "      <th>Ethiopia Rg</th>\n",
              "      <td>280</td>\n",
              "    </tr>\n",
              "    <tr>\n",
              "      <th>Peppermint Rg</th>\n",
              "      <td>276</td>\n",
              "    </tr>\n",
              "    <tr>\n",
              "      <th>Spicy Eye Opener Chai Rg</th>\n",
              "      <td>271</td>\n",
              "    </tr>\n",
              "    <tr>\n",
              "      <th>Earl Grey Rg</th>\n",
              "      <td>266</td>\n",
              "    </tr>\n",
              "    <tr>\n",
              "      <th>Serenity Green Tea Rg</th>\n",
              "      <td>266</td>\n",
              "    </tr>\n",
              "    <tr>\n",
              "      <th>Jamaican Coffee River Sm</th>\n",
              "      <td>263</td>\n",
              "    </tr>\n",
              "    <tr>\n",
              "      <th>Cappuccino</th>\n",
              "      <td>263</td>\n",
              "    </tr>\n",
              "  </tbody>\n",
              "</table>\n",
              "</div>"
            ],
            "text/plain": [
              "                          quantity\n",
              "product                           \n",
              "Brazilian Rg                   291\n",
              "Morning Sunrise Chai Lg        286\n",
              "Dark chocolate Lg              285\n",
              "Ethiopia Rg                    280\n",
              "Peppermint Rg                  276\n",
              "Spicy Eye Opener Chai Rg       271\n",
              "Earl Grey Rg                   266\n",
              "Serenity Green Tea Rg          266\n",
              "Jamaican Coffee River Sm       263\n",
              "Cappuccino                     263"
            ]
          },
          "metadata": {
            "tags": []
          },
          "execution_count": 272
        }
      ]
    },
    {
      "cell_type": "code",
      "metadata": {
        "colab": {
          "base_uri": "https://localhost:8080/",
          "height": 381
        },
        "id": "W5Ds9kJX26Ay",
        "outputId": "0df06ea3-ed4c-40e9-92cf-c4329a58b162"
      },
      "source": [
        "# produk yang paling disukai generasi Gen Z\n",
        "df2.loc['Younger Millennials'].sort_values(by='quantity', ascending=False).nlargest(10,'quantity')"
      ],
      "execution_count": 273,
      "outputs": [
        {
          "output_type": "execute_result",
          "data": {
            "text/html": [
              "<div>\n",
              "<style scoped>\n",
              "    .dataframe tbody tr th:only-of-type {\n",
              "        vertical-align: middle;\n",
              "    }\n",
              "\n",
              "    .dataframe tbody tr th {\n",
              "        vertical-align: top;\n",
              "    }\n",
              "\n",
              "    .dataframe thead th {\n",
              "        text-align: right;\n",
              "    }\n",
              "</style>\n",
              "<table border=\"1\" class=\"dataframe\">\n",
              "  <thead>\n",
              "    <tr style=\"text-align: right;\">\n",
              "      <th></th>\n",
              "      <th>quantity</th>\n",
              "    </tr>\n",
              "    <tr>\n",
              "      <th>product</th>\n",
              "      <th></th>\n",
              "    </tr>\n",
              "  </thead>\n",
              "  <tbody>\n",
              "    <tr>\n",
              "      <th>Earl Grey Rg</th>\n",
              "      <td>228</td>\n",
              "    </tr>\n",
              "    <tr>\n",
              "      <th>Serenity Green Tea Rg</th>\n",
              "      <td>226</td>\n",
              "    </tr>\n",
              "    <tr>\n",
              "      <th>Ethiopia Sm</th>\n",
              "      <td>224</td>\n",
              "    </tr>\n",
              "    <tr>\n",
              "      <th>Brazilian Sm</th>\n",
              "      <td>220</td>\n",
              "    </tr>\n",
              "    <tr>\n",
              "      <th>Ethiopia Rg</th>\n",
              "      <td>220</td>\n",
              "    </tr>\n",
              "    <tr>\n",
              "      <th>Sustainably Grown Organic Lg</th>\n",
              "      <td>219</td>\n",
              "    </tr>\n",
              "    <tr>\n",
              "      <th>Peppermint Rg</th>\n",
              "      <td>215</td>\n",
              "    </tr>\n",
              "    <tr>\n",
              "      <th>Morning Sunrise Chai Rg</th>\n",
              "      <td>213</td>\n",
              "    </tr>\n",
              "    <tr>\n",
              "      <th>Morning Sunrise Chai Lg</th>\n",
              "      <td>207</td>\n",
              "    </tr>\n",
              "    <tr>\n",
              "      <th>Columbian Medium Roast Rg</th>\n",
              "      <td>206</td>\n",
              "    </tr>\n",
              "  </tbody>\n",
              "</table>\n",
              "</div>"
            ],
            "text/plain": [
              "                              quantity\n",
              "product                               \n",
              "Earl Grey Rg                       228\n",
              "Serenity Green Tea Rg              226\n",
              "Ethiopia Sm                        224\n",
              "Brazilian Sm                       220\n",
              "Ethiopia Rg                        220\n",
              "Sustainably Grown Organic Lg       219\n",
              "Peppermint Rg                      215\n",
              "Morning Sunrise Chai Rg            213\n",
              "Morning Sunrise Chai Lg            207\n",
              "Columbian Medium Roast Rg          206"
            ]
          },
          "metadata": {
            "tags": []
          },
          "execution_count": 273
        }
      ]
    },
    {
      "cell_type": "markdown",
      "metadata": {
        "id": "rNr_MbqREEE9"
      },
      "source": [
        "c. Bagaimana komposisi gender customer?"
      ]
    },
    {
      "cell_type": "code",
      "metadata": {
        "id": "Uln0QwYfEDgw"
      },
      "source": [
        "# merge dataframe yang diperlukan\n",
        "df4 = df_sales_reciepts_customer_generations.merge(df_customer[['customer_id','gender']], how='left', on='customer_id')"
      ],
      "execution_count": 274,
      "outputs": []
    },
    {
      "cell_type": "code",
      "metadata": {
        "id": "I0ncLSdnFZea"
      },
      "source": [
        "# mengisi field 'gender' yang terdapat null dengan modul\n",
        "df4['gender'] = df4['gender'].fillna('F')"
      ],
      "execution_count": 275,
      "outputs": []
    },
    {
      "cell_type": "code",
      "metadata": {
        "colab": {
          "base_uri": "https://localhost:8080/",
          "height": 169
        },
        "id": "-uNHXn6dKYKc",
        "outputId": "31e78c35-2c5c-4b66-ef95-17766586a90c"
      },
      "source": [
        "# melakukan groupby\n",
        "df4a = pd.DataFrame(df4.groupby('gender')['transaction_id'].count())\n",
        "df4a"
      ],
      "execution_count": 276,
      "outputs": [
        {
          "output_type": "execute_result",
          "data": {
            "text/html": [
              "<div>\n",
              "<style scoped>\n",
              "    .dataframe tbody tr th:only-of-type {\n",
              "        vertical-align: middle;\n",
              "    }\n",
              "\n",
              "    .dataframe tbody tr th {\n",
              "        vertical-align: top;\n",
              "    }\n",
              "\n",
              "    .dataframe thead th {\n",
              "        text-align: right;\n",
              "    }\n",
              "</style>\n",
              "<table border=\"1\" class=\"dataframe\">\n",
              "  <thead>\n",
              "    <tr style=\"text-align: right;\">\n",
              "      <th></th>\n",
              "      <th>transaction_id</th>\n",
              "    </tr>\n",
              "    <tr>\n",
              "      <th>gender</th>\n",
              "      <th></th>\n",
              "    </tr>\n",
              "  </thead>\n",
              "  <tbody>\n",
              "    <tr>\n",
              "      <th>F</th>\n",
              "      <td>21778</td>\n",
              "    </tr>\n",
              "    <tr>\n",
              "      <th>M</th>\n",
              "      <td>16682</td>\n",
              "    </tr>\n",
              "    <tr>\n",
              "      <th>N</th>\n",
              "      <td>11434</td>\n",
              "    </tr>\n",
              "  </tbody>\n",
              "</table>\n",
              "</div>"
            ],
            "text/plain": [
              "        transaction_id\n",
              "gender                \n",
              "F                21778\n",
              "M                16682\n",
              "N                11434"
            ]
          },
          "metadata": {
            "tags": []
          },
          "execution_count": 276
        }
      ]
    },
    {
      "cell_type": "code",
      "metadata": {
        "colab": {
          "base_uri": "https://localhost:8080/",
          "height": 295
        },
        "id": "4wKPipfAHiLc",
        "outputId": "69b03462-db24-45c6-b02b-3427e9fc0bc0"
      },
      "source": [
        "# plot\n",
        "xpos = np.arange(start=0, stop=3, step=1)\n",
        "plt.bar(xpos, df4a['transaction_id'])\n",
        "plt.xticks(xpos, ['Female', 'Male', 'Neutral'], )\n",
        "plt.xlabel('Gender')\n",
        "plt.ylabel('Banyak transaski')\n",
        "plt.title('Transaksi berdasarkan Segmentasi Gender pada April 2019')\n",
        "plt.savefig('c.png', dpi=500)"
      ],
      "execution_count": 277,
      "outputs": [
        {
          "output_type": "display_data",
          "data": {
            "image/png": "[encoded data removed]",
            "text/plain": [
              "<Figure size 432x288 with 1 Axes>"
            ]
          },
          "metadata": {
            "tags": [],
            "needs_background": "light"
          }
        }
      ]
    },
    {
      "cell_type": "markdown",
      "metadata": {
        "id": "kPL_qz1uLmt5"
      },
      "source": [
        "d. Apa produk yang disukai oleh masing-masing gender?"
      ]
    },
    {
      "cell_type": "code",
      "metadata": {
        "id": "o8LFXkSqLvYr"
      },
      "source": [
        "# merge dataframe yang diperlukan\n",
        "df5 = df4.merge(df_product, how='left', on='product_id')"
      ],
      "execution_count": 278,
      "outputs": []
    },
    {
      "cell_type": "code",
      "metadata": {
        "id": "qyV21kkDObHt"
      },
      "source": [
        "# melakukan groupby\n",
        "df5_group = df5.groupby(['gender', 'product'])[['quantity']].sum()"
      ],
      "execution_count": 279,
      "outputs": []
    },
    {
      "cell_type": "code",
      "metadata": {
        "colab": {
          "base_uri": "https://localhost:8080/",
          "height": 381
        },
        "id": "9YeNt5MkPP6a",
        "outputId": "9c0897ea-9155-4186-824f-03758b5f9d5f"
      },
      "source": [
        "# kategori produk yang disukai wanita\n",
        "df5_group.loc['F'].sort_values(by='quantity', ascending=False).nlargest(10,'quantity')"
      ],
      "execution_count": 280,
      "outputs": [
        {
          "output_type": "execute_result",
          "data": {
            "text/html": [
              "<div>\n",
              "<style scoped>\n",
              "    .dataframe tbody tr th:only-of-type {\n",
              "        vertical-align: middle;\n",
              "    }\n",
              "\n",
              "    .dataframe tbody tr th {\n",
              "        vertical-align: top;\n",
              "    }\n",
              "\n",
              "    .dataframe thead th {\n",
              "        text-align: right;\n",
              "    }\n",
              "</style>\n",
              "<table border=\"1\" class=\"dataframe\">\n",
              "  <thead>\n",
              "    <tr style=\"text-align: right;\">\n",
              "      <th></th>\n",
              "      <th>quantity</th>\n",
              "    </tr>\n",
              "    <tr>\n",
              "      <th>product</th>\n",
              "      <th></th>\n",
              "    </tr>\n",
              "  </thead>\n",
              "  <tbody>\n",
              "    <tr>\n",
              "      <th>Dark chocolate Lg</th>\n",
              "      <td>703</td>\n",
              "    </tr>\n",
              "    <tr>\n",
              "      <th>Sustainably Grown Organic Lg</th>\n",
              "      <td>701</td>\n",
              "    </tr>\n",
              "    <tr>\n",
              "      <th>Earl Grey Rg</th>\n",
              "      <td>699</td>\n",
              "    </tr>\n",
              "    <tr>\n",
              "      <th>Jamaican Coffee River Lg</th>\n",
              "      <td>676</td>\n",
              "    </tr>\n",
              "    <tr>\n",
              "      <th>Latte Rg</th>\n",
              "      <td>672</td>\n",
              "    </tr>\n",
              "    <tr>\n",
              "      <th>Cappuccino</th>\n",
              "      <td>669</td>\n",
              "    </tr>\n",
              "    <tr>\n",
              "      <th>Serenity Green Tea Rg</th>\n",
              "      <td>667</td>\n",
              "    </tr>\n",
              "    <tr>\n",
              "      <th>Brazilian Sm</th>\n",
              "      <td>664</td>\n",
              "    </tr>\n",
              "    <tr>\n",
              "      <th>Our Old Time Diner Blend Rg</th>\n",
              "      <td>663</td>\n",
              "    </tr>\n",
              "    <tr>\n",
              "      <th>Peppermint Rg</th>\n",
              "      <td>661</td>\n",
              "    </tr>\n",
              "  </tbody>\n",
              "</table>\n",
              "</div>"
            ],
            "text/plain": [
              "                              quantity\n",
              "product                               \n",
              "Dark chocolate Lg                  703\n",
              "Sustainably Grown Organic Lg       701\n",
              "Earl Grey Rg                       699\n",
              "Jamaican Coffee River Lg           676\n",
              "Latte Rg                           672\n",
              "Cappuccino                         669\n",
              "Serenity Green Tea Rg              667\n",
              "Brazilian Sm                       664\n",
              "Our Old Time Diner Blend Rg        663\n",
              "Peppermint Rg                      661"
            ]
          },
          "metadata": {
            "tags": []
          },
          "execution_count": 280
        }
      ]
    },
    {
      "cell_type": "code",
      "metadata": {
        "colab": {
          "base_uri": "https://localhost:8080/",
          "height": 381
        },
        "id": "r1U1A2FzQDsH",
        "outputId": "914c05f4-a707-45e1-e613-89d03950b252"
      },
      "source": [
        "# kategori produk yang disukai pria\n",
        "df5_group.loc['M'].sort_values(by='quantity', ascending=False).nlargest(10,'quantity')"
      ],
      "execution_count": 281,
      "outputs": [
        {
          "output_type": "execute_result",
          "data": {
            "text/html": [
              "<div>\n",
              "<style scoped>\n",
              "    .dataframe tbody tr th:only-of-type {\n",
              "        vertical-align: middle;\n",
              "    }\n",
              "\n",
              "    .dataframe tbody tr th {\n",
              "        vertical-align: top;\n",
              "    }\n",
              "\n",
              "    .dataframe thead th {\n",
              "        text-align: right;\n",
              "    }\n",
              "</style>\n",
              "<table border=\"1\" class=\"dataframe\">\n",
              "  <thead>\n",
              "    <tr style=\"text-align: right;\">\n",
              "      <th></th>\n",
              "      <th>quantity</th>\n",
              "    </tr>\n",
              "    <tr>\n",
              "      <th>product</th>\n",
              "      <th></th>\n",
              "    </tr>\n",
              "  </thead>\n",
              "  <tbody>\n",
              "    <tr>\n",
              "      <th>Traditional Blend Chai Rg</th>\n",
              "      <td>535</td>\n",
              "    </tr>\n",
              "    <tr>\n",
              "      <th>Spicy Eye Opener Chai Lg</th>\n",
              "      <td>519</td>\n",
              "    </tr>\n",
              "    <tr>\n",
              "      <th>Morning Sunrise Chai Rg</th>\n",
              "      <td>519</td>\n",
              "    </tr>\n",
              "    <tr>\n",
              "      <th>Latte Rg</th>\n",
              "      <td>514</td>\n",
              "    </tr>\n",
              "    <tr>\n",
              "      <th>Brazilian Rg</th>\n",
              "      <td>513</td>\n",
              "    </tr>\n",
              "    <tr>\n",
              "      <th>Serenity Green Tea Rg</th>\n",
              "      <td>509</td>\n",
              "    </tr>\n",
              "    <tr>\n",
              "      <th>Peppermint Rg</th>\n",
              "      <td>509</td>\n",
              "    </tr>\n",
              "    <tr>\n",
              "      <th>Ethiopia Rg</th>\n",
              "      <td>507</td>\n",
              "    </tr>\n",
              "    <tr>\n",
              "      <th>Espresso shot</th>\n",
              "      <td>504</td>\n",
              "    </tr>\n",
              "    <tr>\n",
              "      <th>Ethiopia Sm</th>\n",
              "      <td>503</td>\n",
              "    </tr>\n",
              "  </tbody>\n",
              "</table>\n",
              "</div>"
            ],
            "text/plain": [
              "                           quantity\n",
              "product                            \n",
              "Traditional Blend Chai Rg       535\n",
              "Spicy Eye Opener Chai Lg        519\n",
              "Morning Sunrise Chai Rg         519\n",
              "Latte Rg                        514\n",
              "Brazilian Rg                    513\n",
              "Serenity Green Tea Rg           509\n",
              "Peppermint Rg                   509\n",
              "Ethiopia Rg                     507\n",
              "Espresso shot                   504\n",
              "Ethiopia Sm                     503"
            ]
          },
          "metadata": {
            "tags": []
          },
          "execution_count": 281
        }
      ]
    },
    {
      "cell_type": "code",
      "metadata": {
        "colab": {
          "base_uri": "https://localhost:8080/",
          "height": 381
        },
        "id": "x7H_Z7yBQIGL",
        "outputId": "3504e283-3d27-4c86-f9fa-837d840a85ae"
      },
      "source": [
        "# kategori produk yang disukai gender N\n",
        "df5_group.loc['N'].sort_values(by='quantity', ascending=False).nlargest(10,'quantity')"
      ],
      "execution_count": 282,
      "outputs": [
        {
          "output_type": "execute_result",
          "data": {
            "text/html": [
              "<div>\n",
              "<style scoped>\n",
              "    .dataframe tbody tr th:only-of-type {\n",
              "        vertical-align: middle;\n",
              "    }\n",
              "\n",
              "    .dataframe tbody tr th {\n",
              "        vertical-align: top;\n",
              "    }\n",
              "\n",
              "    .dataframe thead th {\n",
              "        text-align: right;\n",
              "    }\n",
              "</style>\n",
              "<table border=\"1\" class=\"dataframe\">\n",
              "  <thead>\n",
              "    <tr style=\"text-align: right;\">\n",
              "      <th></th>\n",
              "      <th>quantity</th>\n",
              "    </tr>\n",
              "    <tr>\n",
              "      <th>product</th>\n",
              "      <th></th>\n",
              "    </tr>\n",
              "  </thead>\n",
              "  <tbody>\n",
              "    <tr>\n",
              "      <th>Morning Sunrise Chai Rg</th>\n",
              "      <td>394</td>\n",
              "    </tr>\n",
              "    <tr>\n",
              "      <th>Dark chocolate Lg</th>\n",
              "      <td>381</td>\n",
              "    </tr>\n",
              "    <tr>\n",
              "      <th>Columbian Medium Roast Rg</th>\n",
              "      <td>378</td>\n",
              "    </tr>\n",
              "    <tr>\n",
              "      <th>Latte</th>\n",
              "      <td>376</td>\n",
              "    </tr>\n",
              "    <tr>\n",
              "      <th>Earl Grey Rg</th>\n",
              "      <td>376</td>\n",
              "    </tr>\n",
              "    <tr>\n",
              "      <th>Ethiopia Rg</th>\n",
              "      <td>362</td>\n",
              "    </tr>\n",
              "    <tr>\n",
              "      <th>Traditional Blend Chai Lg</th>\n",
              "      <td>360</td>\n",
              "    </tr>\n",
              "    <tr>\n",
              "      <th>Lemon Grass Rg</th>\n",
              "      <td>355</td>\n",
              "    </tr>\n",
              "    <tr>\n",
              "      <th>English Breakfast Rg</th>\n",
              "      <td>353</td>\n",
              "    </tr>\n",
              "    <tr>\n",
              "      <th>Ethiopia Sm</th>\n",
              "      <td>351</td>\n",
              "    </tr>\n",
              "  </tbody>\n",
              "</table>\n",
              "</div>"
            ],
            "text/plain": [
              "                           quantity\n",
              "product                            \n",
              "Morning Sunrise Chai Rg         394\n",
              "Dark chocolate Lg               381\n",
              "Columbian Medium Roast Rg       378\n",
              "Latte                           376\n",
              "Earl Grey Rg                    376\n",
              "Ethiopia Rg                     362\n",
              "Traditional Blend Chai Lg       360\n",
              "Lemon Grass Rg                  355\n",
              "English Breakfast Rg            353\n",
              "Ethiopia Sm                     351"
            ]
          },
          "metadata": {
            "tags": []
          },
          "execution_count": 282
        }
      ]
    },
    {
      "cell_type": "markdown",
      "metadata": {
        "id": "Dd3FgrH8NMSV"
      },
      "source": [
        "e. Produk yang paling diminati di setiap homestore"
      ]
    },
    {
      "cell_type": "code",
      "metadata": {
        "id": "kglm_WmMNSIA"
      },
      "source": [
        "# merge tabel df_sales_reciepts, df_product, df_sales_outlet\n",
        "df_sales_reciepts_product = df_sales_reciepts.merge(df_product, how='left', on='product_id')\n",
        "df_sales_reciepts_product_outlet = df_sales_reciepts_product.merge(df_sales_outlet, how='left', on='sales_outlet_id')"
      ],
      "execution_count": 283,
      "outputs": []
    },
    {
      "cell_type": "code",
      "metadata": {
        "id": "LDBUua6YPohi"
      },
      "source": [
        "# melakukan groupby berdasarkan kolom 'sales_outlet_id' dan 'product'\n",
        "df5 = df_sales_reciepts_product_outlet.groupby(by=['sales_outlet_id', 'product'])[['quantity']].sum()"
      ],
      "execution_count": 284,
      "outputs": []
    },
    {
      "cell_type": "code",
      "metadata": {
        "colab": {
          "base_uri": "https://localhost:8080/",
          "height": 381
        },
        "id": "8B4suyOigowZ",
        "outputId": "8a011c6d-c258-41ed-c867-5b00fd2c4ac6"
      },
      "source": [
        " # 10 produk teratas di homestore 3\n",
        " df5.loc['3'].sort_values(by='quantity', ascending=False).nlargest(10,'quantity')"
      ],
      "execution_count": 285,
      "outputs": [
        {
          "output_type": "execute_result",
          "data": {
            "text/html": [
              "<div>\n",
              "<style scoped>\n",
              "    .dataframe tbody tr th:only-of-type {\n",
              "        vertical-align: middle;\n",
              "    }\n",
              "\n",
              "    .dataframe tbody tr th {\n",
              "        vertical-align: top;\n",
              "    }\n",
              "\n",
              "    .dataframe thead th {\n",
              "        text-align: right;\n",
              "    }\n",
              "</style>\n",
              "<table border=\"1\" class=\"dataframe\">\n",
              "  <thead>\n",
              "    <tr style=\"text-align: right;\">\n",
              "      <th></th>\n",
              "      <th>quantity</th>\n",
              "    </tr>\n",
              "    <tr>\n",
              "      <th>product</th>\n",
              "      <th></th>\n",
              "    </tr>\n",
              "  </thead>\n",
              "  <tbody>\n",
              "    <tr>\n",
              "      <th>Earl Grey Rg</th>\n",
              "      <td>576</td>\n",
              "    </tr>\n",
              "    <tr>\n",
              "      <th>Dark chocolate Lg</th>\n",
              "      <td>568</td>\n",
              "    </tr>\n",
              "    <tr>\n",
              "      <th>Peppermint Rg</th>\n",
              "      <td>557</td>\n",
              "    </tr>\n",
              "    <tr>\n",
              "      <th>Latte</th>\n",
              "      <td>539</td>\n",
              "    </tr>\n",
              "    <tr>\n",
              "      <th>Sustainably Grown Organic Lg</th>\n",
              "      <td>534</td>\n",
              "    </tr>\n",
              "    <tr>\n",
              "      <th>Jamaican Coffee River Rg</th>\n",
              "      <td>531</td>\n",
              "    </tr>\n",
              "    <tr>\n",
              "      <th>Morning Sunrise Chai Lg</th>\n",
              "      <td>530</td>\n",
              "    </tr>\n",
              "    <tr>\n",
              "      <th>Ethiopia Sm</th>\n",
              "      <td>527</td>\n",
              "    </tr>\n",
              "    <tr>\n",
              "      <th>Spicy Eye Opener Chai Lg</th>\n",
              "      <td>523</td>\n",
              "    </tr>\n",
              "    <tr>\n",
              "      <th>Columbian Medium Roast Rg</th>\n",
              "      <td>518</td>\n",
              "    </tr>\n",
              "  </tbody>\n",
              "</table>\n",
              "</div>"
            ],
            "text/plain": [
              "                              quantity\n",
              "product                               \n",
              "Earl Grey Rg                       576\n",
              "Dark chocolate Lg                  568\n",
              "Peppermint Rg                      557\n",
              "Latte                              539\n",
              "Sustainably Grown Organic Lg       534\n",
              "Jamaican Coffee River Rg           531\n",
              "Morning Sunrise Chai Lg            530\n",
              "Ethiopia Sm                        527\n",
              "Spicy Eye Opener Chai Lg           523\n",
              "Columbian Medium Roast Rg          518"
            ]
          },
          "metadata": {
            "tags": []
          },
          "execution_count": 285
        }
      ]
    },
    {
      "cell_type": "code",
      "metadata": {
        "colab": {
          "base_uri": "https://localhost:8080/",
          "height": 381
        },
        "id": "cOSmbrkKk7K3",
        "outputId": "6f8f11b4-d2d9-47ca-af14-613e251b307e"
      },
      "source": [
        " # 10 produk teratas di homestore 5\n",
        " df5.loc['5'].sort_values(by='quantity', ascending=False).nlargest(10,'quantity')"
      ],
      "execution_count": 286,
      "outputs": [
        {
          "output_type": "execute_result",
          "data": {
            "text/html": [
              "<div>\n",
              "<style scoped>\n",
              "    .dataframe tbody tr th:only-of-type {\n",
              "        vertical-align: middle;\n",
              "    }\n",
              "\n",
              "    .dataframe tbody tr th {\n",
              "        vertical-align: top;\n",
              "    }\n",
              "\n",
              "    .dataframe thead th {\n",
              "        text-align: right;\n",
              "    }\n",
              "</style>\n",
              "<table border=\"1\" class=\"dataframe\">\n",
              "  <thead>\n",
              "    <tr style=\"text-align: right;\">\n",
              "      <th></th>\n",
              "      <th>quantity</th>\n",
              "    </tr>\n",
              "    <tr>\n",
              "      <th>product</th>\n",
              "      <th></th>\n",
              "    </tr>\n",
              "  </thead>\n",
              "  <tbody>\n",
              "    <tr>\n",
              "      <th>Ethiopia Rg</th>\n",
              "      <td>512</td>\n",
              "    </tr>\n",
              "    <tr>\n",
              "      <th>Ethiopia Sm</th>\n",
              "      <td>510</td>\n",
              "    </tr>\n",
              "    <tr>\n",
              "      <th>Latte</th>\n",
              "      <td>507</td>\n",
              "    </tr>\n",
              "    <tr>\n",
              "      <th>Morning Sunrise Chai Rg</th>\n",
              "      <td>507</td>\n",
              "    </tr>\n",
              "    <tr>\n",
              "      <th>Cappuccino Lg</th>\n",
              "      <td>506</td>\n",
              "    </tr>\n",
              "    <tr>\n",
              "      <th>Peppermint Lg</th>\n",
              "      <td>505</td>\n",
              "    </tr>\n",
              "    <tr>\n",
              "      <th>Columbian Medium Roast Rg</th>\n",
              "      <td>501</td>\n",
              "    </tr>\n",
              "    <tr>\n",
              "      <th>Jamaican Coffee River Lg</th>\n",
              "      <td>501</td>\n",
              "    </tr>\n",
              "    <tr>\n",
              "      <th>English Breakfast Rg</th>\n",
              "      <td>501</td>\n",
              "    </tr>\n",
              "    <tr>\n",
              "      <th>Our Old Time Diner Blend Rg</th>\n",
              "      <td>500</td>\n",
              "    </tr>\n",
              "  </tbody>\n",
              "</table>\n",
              "</div>"
            ],
            "text/plain": [
              "                             quantity\n",
              "product                              \n",
              "Ethiopia Rg                       512\n",
              "Ethiopia Sm                       510\n",
              "Latte                             507\n",
              "Morning Sunrise Chai Rg           507\n",
              "Cappuccino Lg                     506\n",
              "Peppermint Lg                     505\n",
              "Columbian Medium Roast Rg         501\n",
              "Jamaican Coffee River Lg          501\n",
              "English Breakfast Rg              501\n",
              "Our Old Time Diner Blend Rg       500"
            ]
          },
          "metadata": {
            "tags": []
          },
          "execution_count": 286
        }
      ]
    },
    {
      "cell_type": "code",
      "metadata": {
        "colab": {
          "base_uri": "https://localhost:8080/",
          "height": 381
        },
        "id": "XGLFYuHLlSHW",
        "outputId": "18b4c0d4-1fba-4924-b98f-e1753d30b764"
      },
      "source": [
        " # 10 produk teratas di homestore 8\n",
        " df5.loc['8'].sort_values(by='quantity', ascending=False).nlargest(10,'quantity')"
      ],
      "execution_count": 287,
      "outputs": [
        {
          "output_type": "execute_result",
          "data": {
            "text/html": [
              "<div>\n",
              "<style scoped>\n",
              "    .dataframe tbody tr th:only-of-type {\n",
              "        vertical-align: middle;\n",
              "    }\n",
              "\n",
              "    .dataframe tbody tr th {\n",
              "        vertical-align: top;\n",
              "    }\n",
              "\n",
              "    .dataframe thead th {\n",
              "        text-align: right;\n",
              "    }\n",
              "</style>\n",
              "<table border=\"1\" class=\"dataframe\">\n",
              "  <thead>\n",
              "    <tr style=\"text-align: right;\">\n",
              "      <th></th>\n",
              "      <th>quantity</th>\n",
              "    </tr>\n",
              "    <tr>\n",
              "      <th>product</th>\n",
              "      <th></th>\n",
              "    </tr>\n",
              "  </thead>\n",
              "  <tbody>\n",
              "    <tr>\n",
              "      <th>Ouro Brasileiro shot</th>\n",
              "      <td>629</td>\n",
              "    </tr>\n",
              "    <tr>\n",
              "      <th>Ethiopia Lg</th>\n",
              "      <td>531</td>\n",
              "    </tr>\n",
              "    <tr>\n",
              "      <th>English Breakfast Lg</th>\n",
              "      <td>519</td>\n",
              "    </tr>\n",
              "    <tr>\n",
              "      <th>Brazilian Sm</th>\n",
              "      <td>517</td>\n",
              "    </tr>\n",
              "    <tr>\n",
              "      <th>Our Old Time Diner Blend Sm</th>\n",
              "      <td>517</td>\n",
              "    </tr>\n",
              "    <tr>\n",
              "      <th>Serenity Green Tea Rg</th>\n",
              "      <td>516</td>\n",
              "    </tr>\n",
              "    <tr>\n",
              "      <th>Traditional Blend Chai Rg</th>\n",
              "      <td>511</td>\n",
              "    </tr>\n",
              "    <tr>\n",
              "      <th>Ethiopia Rg</th>\n",
              "      <td>509</td>\n",
              "    </tr>\n",
              "    <tr>\n",
              "      <th>Sustainably Grown Organic Lg</th>\n",
              "      <td>508</td>\n",
              "    </tr>\n",
              "    <tr>\n",
              "      <th>Brazilian Lg</th>\n",
              "      <td>507</td>\n",
              "    </tr>\n",
              "  </tbody>\n",
              "</table>\n",
              "</div>"
            ],
            "text/plain": [
              "                              quantity\n",
              "product                               \n",
              "Ouro Brasileiro shot               629\n",
              "Ethiopia Lg                        531\n",
              "English Breakfast Lg               519\n",
              "Brazilian Sm                       517\n",
              "Our Old Time Diner Blend Sm        517\n",
              "Serenity Green Tea Rg              516\n",
              "Traditional Blend Chai Rg          511\n",
              "Ethiopia Rg                        509\n",
              "Sustainably Grown Organic Lg       508\n",
              "Brazilian Lg                       507"
            ]
          },
          "metadata": {
            "tags": []
          },
          "execution_count": 287
        }
      ]
    },
    {
      "cell_type": "markdown",
      "metadata": {
        "id": "Z1UozT-9T8aQ"
      },
      "source": [
        "f. Pendapatan masing-masing homestore perhari"
      ]
    },
    {
      "cell_type": "code",
      "metadata": {
        "id": "gn6OsSHET4vK"
      },
      "source": [
        "# menghitung harga total dari tiap transaksi\n",
        "df_sales_reciepts['total_harga'] = df_sales_reciepts['quantity']*df_sales_reciepts['unit_price']"
      ],
      "execution_count": 288,
      "outputs": []
    },
    {
      "cell_type": "code",
      "metadata": {
        "id": "df6stRuBUqfd"
      },
      "source": [
        "# melakukan\n",
        "df6 = pd.DataFrame(df_sales_reciepts.groupby(['sales_outlet_id','transaction_date'])[['total_harga']].sum())"
      ],
      "execution_count": 289,
      "outputs": []
    },
    {
      "cell_type": "code",
      "metadata": {
        "colab": {
          "base_uri": "https://localhost:8080/"
        },
        "id": "_SgDBbihXF5h",
        "outputId": "79a06752-0877-4dfb-ee1e-c5f510067338"
      },
      "source": [
        "# pendapatan harian selama bulan April homestore 3\n",
        "df6.loc['3']['total_harga']"
      ],
      "execution_count": 290,
      "outputs": [
        {
          "output_type": "execute_result",
          "data": {
            "text/plain": [
              "transaction_date\n",
              "2019-04-01    2571.40\n",
              "2019-04-02    2701.50\n",
              "2019-04-03    2759.05\n",
              "2019-04-04    2511.75\n",
              "2019-04-05    2669.55\n",
              "2019-04-06    1985.25\n",
              "2019-04-07    2271.75\n",
              "2019-04-08    3100.63\n",
              "2019-04-09    2353.06\n",
              "2019-04-10    2557.40\n",
              "2019-04-11    2332.35\n",
              "2019-04-12    1858.28\n",
              "2019-04-13    2053.80\n",
              "2019-04-14    2440.03\n",
              "2019-04-15    3542.96\n",
              "2019-04-16    3115.23\n",
              "2019-04-17    3235.50\n",
              "2019-04-18    3154.87\n",
              "2019-04-19    3540.21\n",
              "2019-04-20    2560.98\n",
              "2019-04-21    2423.33\n",
              "2019-04-22    2652.60\n",
              "2019-04-23    2707.85\n",
              "2019-04-24    3082.80\n",
              "2019-04-25    2515.50\n",
              "2019-04-26    2959.45\n",
              "2019-04-27    2666.80\n",
              "2019-04-28    2540.75\n",
              "2019-04-29    2618.10\n",
              "Name: total_harga, dtype: float64"
            ]
          },
          "metadata": {
            "tags": []
          },
          "execution_count": 290
        }
      ]
    },
    {
      "cell_type": "code",
      "metadata": {
        "colab": {
          "base_uri": "https://localhost:8080/",
          "height": 659
        },
        "id": "nsj7eriFOKrU",
        "outputId": "3bcf7d1f-4cdd-442e-b670-0b574ce8965d"
      },
      "source": [
        "# plot\n",
        "fig, ax = plt.subplots(figsize=(10, 10))\n",
        "ax.plot(df6.loc['3']['total_harga'], color='red')\n",
        "plt.xticks(rotation=45)\n",
        "plt.ylabel('Pendapatan Harian ($)')\n",
        "plt.xlabel('Tanggal')\n",
        "plt.ylim(0,4200)\n",
        "plt.title('Pendapatan Harian Homestore 3 pada April 2019')\n",
        "plt.savefig('3.png', dpi=500)"
      ],
      "execution_count": 291,
      "outputs": [
        {
          "output_type": "display_data",
          "data": {
            "image/png": "[encoded data removed]",
            "text/plain": [
              "<Figure size 720x720 with 1 Axes>"
            ]
          },
          "metadata": {
            "tags": [],
            "needs_background": "light"
          }
        }
      ]
    },
    {
      "cell_type": "code",
      "metadata": {
        "colab": {
          "base_uri": "https://localhost:8080/",
          "height": 957
        },
        "id": "2OVJJYuQXSA0",
        "outputId": "1ddaca2a-b769-4605-8177-9d6953402498"
      },
      "source": [
        "# pendapatan harian selama bulan April homestore 5\n",
        "df6.loc['5']"
      ],
      "execution_count": 292,
      "outputs": [
        {
          "output_type": "execute_result",
          "data": {
            "text/html": [
              "<div>\n",
              "<style scoped>\n",
              "    .dataframe tbody tr th:only-of-type {\n",
              "        vertical-align: middle;\n",
              "    }\n",
              "\n",
              "    .dataframe tbody tr th {\n",
              "        vertical-align: top;\n",
              "    }\n",
              "\n",
              "    .dataframe thead th {\n",
              "        text-align: right;\n",
              "    }\n",
              "</style>\n",
              "<table border=\"1\" class=\"dataframe\">\n",
              "  <thead>\n",
              "    <tr style=\"text-align: right;\">\n",
              "      <th></th>\n",
              "      <th>total_harga</th>\n",
              "    </tr>\n",
              "    <tr>\n",
              "      <th>transaction_date</th>\n",
              "      <th></th>\n",
              "    </tr>\n",
              "  </thead>\n",
              "  <tbody>\n",
              "    <tr>\n",
              "      <th>2019-04-01</th>\n",
              "      <td>2330.45</td>\n",
              "    </tr>\n",
              "    <tr>\n",
              "      <th>2019-04-02</th>\n",
              "      <td>2090.00</td>\n",
              "    </tr>\n",
              "    <tr>\n",
              "      <th>2019-04-03</th>\n",
              "      <td>2281.85</td>\n",
              "    </tr>\n",
              "    <tr>\n",
              "      <th>2019-04-04</th>\n",
              "      <td>2238.85</td>\n",
              "    </tr>\n",
              "    <tr>\n",
              "      <th>2019-04-05</th>\n",
              "      <td>2292.20</td>\n",
              "    </tr>\n",
              "    <tr>\n",
              "      <th>2019-04-06</th>\n",
              "      <td>2214.20</td>\n",
              "    </tr>\n",
              "    <tr>\n",
              "      <th>2019-04-07</th>\n",
              "      <td>2513.83</td>\n",
              "    </tr>\n",
              "    <tr>\n",
              "      <th>2019-04-08</th>\n",
              "      <td>2832.70</td>\n",
              "    </tr>\n",
              "    <tr>\n",
              "      <th>2019-04-09</th>\n",
              "      <td>3004.42</td>\n",
              "    </tr>\n",
              "    <tr>\n",
              "      <th>2019-04-10</th>\n",
              "      <td>2706.35</td>\n",
              "    </tr>\n",
              "    <tr>\n",
              "      <th>2019-04-11</th>\n",
              "      <td>2702.63</td>\n",
              "    </tr>\n",
              "    <tr>\n",
              "      <th>2019-04-12</th>\n",
              "      <td>2844.25</td>\n",
              "    </tr>\n",
              "    <tr>\n",
              "      <th>2019-04-13</th>\n",
              "      <td>3069.56</td>\n",
              "    </tr>\n",
              "    <tr>\n",
              "      <th>2019-04-14</th>\n",
              "      <td>2336.44</td>\n",
              "    </tr>\n",
              "    <tr>\n",
              "      <th>2019-04-15</th>\n",
              "      <td>2497.25</td>\n",
              "    </tr>\n",
              "    <tr>\n",
              "      <th>2019-04-16</th>\n",
              "      <td>2711.83</td>\n",
              "    </tr>\n",
              "    <tr>\n",
              "      <th>2019-04-17</th>\n",
              "      <td>2477.75</td>\n",
              "    </tr>\n",
              "    <tr>\n",
              "      <th>2019-04-18</th>\n",
              "      <td>2580.38</td>\n",
              "    </tr>\n",
              "    <tr>\n",
              "      <th>2019-04-19</th>\n",
              "      <td>2424.05</td>\n",
              "    </tr>\n",
              "    <tr>\n",
              "      <th>2019-04-20</th>\n",
              "      <td>2913.83</td>\n",
              "    </tr>\n",
              "    <tr>\n",
              "      <th>2019-04-21</th>\n",
              "      <td>2755.85</td>\n",
              "    </tr>\n",
              "    <tr>\n",
              "      <th>2019-04-22</th>\n",
              "      <td>3323.86</td>\n",
              "    </tr>\n",
              "    <tr>\n",
              "      <th>2019-04-23</th>\n",
              "      <td>2820.96</td>\n",
              "    </tr>\n",
              "    <tr>\n",
              "      <th>2019-04-24</th>\n",
              "      <td>3209.50</td>\n",
              "    </tr>\n",
              "    <tr>\n",
              "      <th>2019-04-25</th>\n",
              "      <td>3281.35</td>\n",
              "    </tr>\n",
              "    <tr>\n",
              "      <th>2019-04-26</th>\n",
              "      <td>2994.20</td>\n",
              "    </tr>\n",
              "    <tr>\n",
              "      <th>2019-04-27</th>\n",
              "      <td>3605.08</td>\n",
              "    </tr>\n",
              "    <tr>\n",
              "      <th>2019-04-28</th>\n",
              "      <td>2149.00</td>\n",
              "    </tr>\n",
              "    <tr>\n",
              "      <th>2019-04-29</th>\n",
              "      <td>1997.95</td>\n",
              "    </tr>\n",
              "  </tbody>\n",
              "</table>\n",
              "</div>"
            ],
            "text/plain": [
              "                  total_harga\n",
              "transaction_date             \n",
              "2019-04-01            2330.45\n",
              "2019-04-02            2090.00\n",
              "2019-04-03            2281.85\n",
              "2019-04-04            2238.85\n",
              "2019-04-05            2292.20\n",
              "2019-04-06            2214.20\n",
              "2019-04-07            2513.83\n",
              "2019-04-08            2832.70\n",
              "2019-04-09            3004.42\n",
              "2019-04-10            2706.35\n",
              "2019-04-11            2702.63\n",
              "2019-04-12            2844.25\n",
              "2019-04-13            3069.56\n",
              "2019-04-14            2336.44\n",
              "2019-04-15            2497.25\n",
              "2019-04-16            2711.83\n",
              "2019-04-17            2477.75\n",
              "2019-04-18            2580.38\n",
              "2019-04-19            2424.05\n",
              "2019-04-20            2913.83\n",
              "2019-04-21            2755.85\n",
              "2019-04-22            3323.86\n",
              "2019-04-23            2820.96\n",
              "2019-04-24            3209.50\n",
              "2019-04-25            3281.35\n",
              "2019-04-26            2994.20\n",
              "2019-04-27            3605.08\n",
              "2019-04-28            2149.00\n",
              "2019-04-29            1997.95"
            ]
          },
          "metadata": {
            "tags": []
          },
          "execution_count": 292
        }
      ]
    },
    {
      "cell_type": "code",
      "metadata": {
        "colab": {
          "base_uri": "https://localhost:8080/",
          "height": 659
        },
        "id": "FcmHXqRwRdUK",
        "outputId": "2806bd2e-532a-4cda-de0d-9414c44582d8"
      },
      "source": [
        "# plot \n",
        "# plot\n",
        "fig, ax = plt.subplots(figsize=(10, 10))\n",
        "ax.plot(df6.loc['5']['total_harga'], color='red')\n",
        "plt.xticks(rotation=45)\n",
        "plt.ylabel('Pendapatan Harian ($)')\n",
        "plt.xlabel('Tanggal')\n",
        "plt.ylim(0,4200)\n",
        "plt.title('Pendapatan Harian Homestore 5 pada April 2019')\n",
        "plt.savefig('5.png', dpi=500)"
      ],
      "execution_count": 293,
      "outputs": [
        {
          "output_type": "display_data",
          "data": {
            "image/png": "[encoded data removed]",
            "text/plain": [
              "<Figure size 720x720 with 1 Axes>"
            ]
          },
          "metadata": {
            "tags": [],
            "needs_background": "light"
          }
        }
      ]
    },
    {
      "cell_type": "code",
      "metadata": {
        "colab": {
          "base_uri": "https://localhost:8080/",
          "height": 957
        },
        "id": "W53Ja80oXUaL",
        "outputId": "993e6788-0e3a-48e6-c1b6-d34683d5feaa"
      },
      "source": [
        "# pendapatan harian selama bulan April homestore 8\n",
        "df6.loc['8']"
      ],
      "execution_count": 294,
      "outputs": [
        {
          "output_type": "execute_result",
          "data": {
            "text/html": [
              "<div>\n",
              "<style scoped>\n",
              "    .dataframe tbody tr th:only-of-type {\n",
              "        vertical-align: middle;\n",
              "    }\n",
              "\n",
              "    .dataframe tbody tr th {\n",
              "        vertical-align: top;\n",
              "    }\n",
              "\n",
              "    .dataframe thead th {\n",
              "        text-align: right;\n",
              "    }\n",
              "</style>\n",
              "<table border=\"1\" class=\"dataframe\">\n",
              "  <thead>\n",
              "    <tr style=\"text-align: right;\">\n",
              "      <th></th>\n",
              "      <th>total_harga</th>\n",
              "    </tr>\n",
              "    <tr>\n",
              "      <th>transaction_date</th>\n",
              "      <th></th>\n",
              "    </tr>\n",
              "  </thead>\n",
              "  <tbody>\n",
              "    <tr>\n",
              "      <th>2019-04-01</th>\n",
              "      <td>2560.15</td>\n",
              "    </tr>\n",
              "    <tr>\n",
              "      <th>2019-04-02</th>\n",
              "      <td>2477.60</td>\n",
              "    </tr>\n",
              "    <tr>\n",
              "      <th>2019-04-03</th>\n",
              "      <td>2420.35</td>\n",
              "    </tr>\n",
              "    <tr>\n",
              "      <th>2019-04-04</th>\n",
              "      <td>2335.85</td>\n",
              "    </tr>\n",
              "    <tr>\n",
              "      <th>2019-04-05</th>\n",
              "      <td>2274.50</td>\n",
              "    </tr>\n",
              "    <tr>\n",
              "      <th>2019-04-06</th>\n",
              "      <td>2314.30</td>\n",
              "    </tr>\n",
              "    <tr>\n",
              "      <th>2019-04-07</th>\n",
              "      <td>2946.65</td>\n",
              "    </tr>\n",
              "    <tr>\n",
              "      <th>2019-04-08</th>\n",
              "      <td>2928.96</td>\n",
              "    </tr>\n",
              "    <tr>\n",
              "      <th>2019-04-09</th>\n",
              "      <td>3022.25</td>\n",
              "    </tr>\n",
              "    <tr>\n",
              "      <th>2019-04-10</th>\n",
              "      <td>2985.23</td>\n",
              "    </tr>\n",
              "    <tr>\n",
              "      <th>2019-04-11</th>\n",
              "      <td>2779.01</td>\n",
              "    </tr>\n",
              "    <tr>\n",
              "      <th>2019-04-12</th>\n",
              "      <td>3010.00</td>\n",
              "    </tr>\n",
              "    <tr>\n",
              "      <th>2019-04-13</th>\n",
              "      <td>3613.15</td>\n",
              "    </tr>\n",
              "    <tr>\n",
              "      <th>2019-04-14</th>\n",
              "      <td>3434.39</td>\n",
              "    </tr>\n",
              "    <tr>\n",
              "      <th>2019-04-15</th>\n",
              "      <td>2634.18</td>\n",
              "    </tr>\n",
              "    <tr>\n",
              "      <th>2019-04-16</th>\n",
              "      <td>2769.48</td>\n",
              "    </tr>\n",
              "    <tr>\n",
              "      <th>2019-04-17</th>\n",
              "      <td>4129.80</td>\n",
              "    </tr>\n",
              "    <tr>\n",
              "      <th>2019-04-18</th>\n",
              "      <td>2968.28</td>\n",
              "    </tr>\n",
              "    <tr>\n",
              "      <th>2019-04-19</th>\n",
              "      <td>2982.63</td>\n",
              "    </tr>\n",
              "    <tr>\n",
              "      <th>2019-04-20</th>\n",
              "      <td>2713.45</td>\n",
              "    </tr>\n",
              "    <tr>\n",
              "      <th>2019-04-21</th>\n",
              "      <td>3223.83</td>\n",
              "    </tr>\n",
              "    <tr>\n",
              "      <th>2019-04-22</th>\n",
              "      <td>2275.45</td>\n",
              "    </tr>\n",
              "    <tr>\n",
              "      <th>2019-04-23</th>\n",
              "      <td>2726.08</td>\n",
              "    </tr>\n",
              "    <tr>\n",
              "      <th>2019-04-24</th>\n",
              "      <td>2597.00</td>\n",
              "    </tr>\n",
              "    <tr>\n",
              "      <th>2019-04-25</th>\n",
              "      <td>2544.00</td>\n",
              "    </tr>\n",
              "    <tr>\n",
              "      <th>2019-04-26</th>\n",
              "      <td>2477.23</td>\n",
              "    </tr>\n",
              "    <tr>\n",
              "      <th>2019-04-27</th>\n",
              "      <td>2499.70</td>\n",
              "    </tr>\n",
              "    <tr>\n",
              "      <th>2019-04-28</th>\n",
              "      <td>2058.40</td>\n",
              "    </tr>\n",
              "    <tr>\n",
              "      <th>2019-04-29</th>\n",
              "      <td>1826.35</td>\n",
              "    </tr>\n",
              "  </tbody>\n",
              "</table>\n",
              "</div>"
            ],
            "text/plain": [
              "                  total_harga\n",
              "transaction_date             \n",
              "2019-04-01            2560.15\n",
              "2019-04-02            2477.60\n",
              "2019-04-03            2420.35\n",
              "2019-04-04            2335.85\n",
              "2019-04-05            2274.50\n",
              "2019-04-06            2314.30\n",
              "2019-04-07            2946.65\n",
              "2019-04-08            2928.96\n",
              "2019-04-09            3022.25\n",
              "2019-04-10            2985.23\n",
              "2019-04-11            2779.01\n",
              "2019-04-12            3010.00\n",
              "2019-04-13            3613.15\n",
              "2019-04-14            3434.39\n",
              "2019-04-15            2634.18\n",
              "2019-04-16            2769.48\n",
              "2019-04-17            4129.80\n",
              "2019-04-18            2968.28\n",
              "2019-04-19            2982.63\n",
              "2019-04-20            2713.45\n",
              "2019-04-21            3223.83\n",
              "2019-04-22            2275.45\n",
              "2019-04-23            2726.08\n",
              "2019-04-24            2597.00\n",
              "2019-04-25            2544.00\n",
              "2019-04-26            2477.23\n",
              "2019-04-27            2499.70\n",
              "2019-04-28            2058.40\n",
              "2019-04-29            1826.35"
            ]
          },
          "metadata": {
            "tags": []
          },
          "execution_count": 294
        }
      ]
    },
    {
      "cell_type": "code",
      "metadata": {
        "colab": {
          "base_uri": "https://localhost:8080/",
          "height": 659
        },
        "id": "si3RYyjFRqA3",
        "outputId": "7f7970d6-2332-4f13-af20-a290af144018"
      },
      "source": [
        "# plot\n",
        "fig, ax = plt.subplots(figsize=(10, 10))\n",
        "ax.plot(df6.loc['8']['total_harga'], color='red')\n",
        "plt.xticks(rotation=45)\n",
        "plt.ylabel('Pendapatan Harian ($)')\n",
        "plt.xlabel('Tanggal')\n",
        "plt.ylim(0,4200)\n",
        "plt.title('Pendapatan Harian Homestore 8 pada April 2019')\n",
        "plt.savefig('8.png', dpi=500)"
      ],
      "execution_count": 295,
      "outputs": [
        {
          "output_type": "display_data",
          "data": {
            "image/png": "[encoded data removed]",
            "text/plain": [
              "<Figure size 720x720 with 1 Axes>"
            ]
          },
          "metadata": {
            "tags": [],
            "needs_background": "light"
          }
        }
      ]
    },
    {
      "cell_type": "markdown",
      "metadata": {
        "id": "GFBxKu19a8ls"
      },
      "source": [
        "g. Homestore mana yang penjualannya paling banyak dan homestore mana yang penjualannya paling sedikit"
      ]
    },
    {
      "cell_type": "code",
      "metadata": {
        "id": "sFlCSGxzbIyk"
      },
      "source": [
        "# melakukan groupby\n",
        "df7 = pd.DataFrame(df_sales_reciepts.groupby('sales_outlet_id')[['total_harga']].sum())\n",
        "df7 = df7.rename(columns={'total_harga':'total_pendapatan'})"
      ],
      "execution_count": 296,
      "outputs": []
    },
    {
      "cell_type": "code",
      "metadata": {
        "colab": {
          "base_uri": "https://localhost:8080/",
          "height": 169
        },
        "id": "8hW9dIBNbTZ2",
        "outputId": "69d9057e-741f-41b3-94a0-a11e0b85c198"
      },
      "source": [
        "df7"
      ],
      "execution_count": 297,
      "outputs": [
        {
          "output_type": "execute_result",
          "data": {
            "text/html": [
              "<div>\n",
              "<style scoped>\n",
              "    .dataframe tbody tr th:only-of-type {\n",
              "        vertical-align: middle;\n",
              "    }\n",
              "\n",
              "    .dataframe tbody tr th {\n",
              "        vertical-align: top;\n",
              "    }\n",
              "\n",
              "    .dataframe thead th {\n",
              "        text-align: right;\n",
              "    }\n",
              "</style>\n",
              "<table border=\"1\" class=\"dataframe\">\n",
              "  <thead>\n",
              "    <tr style=\"text-align: right;\">\n",
              "      <th></th>\n",
              "      <th>total_pendapatan</th>\n",
              "    </tr>\n",
              "    <tr>\n",
              "      <th>sales_outlet_id</th>\n",
              "      <th></th>\n",
              "    </tr>\n",
              "  </thead>\n",
              "  <tbody>\n",
              "    <tr>\n",
              "      <th>3</th>\n",
              "      <td>77482.73</td>\n",
              "    </tr>\n",
              "    <tr>\n",
              "      <th>5</th>\n",
              "      <td>77200.57</td>\n",
              "    </tr>\n",
              "    <tr>\n",
              "      <th>8</th>\n",
              "      <td>79528.25</td>\n",
              "    </tr>\n",
              "  </tbody>\n",
              "</table>\n",
              "</div>"
            ],
            "text/plain": [
              "                 total_pendapatan\n",
              "sales_outlet_id                  \n",
              "3                        77482.73\n",
              "5                        77200.57\n",
              "8                        79528.25"
            ]
          },
          "metadata": {
            "tags": []
          },
          "execution_count": 297
        }
      ]
    },
    {
      "cell_type": "code",
      "metadata": {
        "id": "-0vhMWpJalcw"
      },
      "source": [
        "total_pendapatan = list(df7['total_pendapatan'])"
      ],
      "execution_count": 298,
      "outputs": []
    },
    {
      "cell_type": "code",
      "metadata": {
        "colab": {
          "base_uri": "https://localhost:8080/",
          "height": 621
        },
        "id": "88ZAumMqYb82",
        "outputId": "24c1f6fb-fccd-43e1-9871-a813c2d2bd84"
      },
      "source": [
        "# plot\n",
        "\n",
        "fig, ax = plt.subplots(figsize=(10, 10))\n",
        "ax.bar(df7.index, total_pendapatan, color='green')\n",
        "plt.ylabel('Pendapatan Total ($)')\n",
        "plt.xlabel('Homestore')\n",
        "plt.title('Pendapatan Tota Homestore pada April 2019')\n",
        "plt.savefig('gabungan.png', dpi=500)"
      ],
      "execution_count": 299,
      "outputs": [
        {
          "output_type": "display_data",
          "data": {
            "image/png": "[encoded data removed]",
            "text/plain": [
              "<Figure size 720x720 with 1 Axes>"
            ]
          },
          "metadata": {
            "tags": [],
            "needs_background": "light"
          }
        }
      ]
    },
    {
      "cell_type": "markdown",
      "metadata": {
        "id": "O7frGwErcF-h"
      },
      "source": [
        "h. Produk yang bersisa di masing-masing homestore?"
      ]
    },
    {
      "cell_type": "code",
      "metadata": {
        "id": "czzqxig0fYNG"
      },
      "source": [
        "# merge dataframe yang diperlukan\n",
        "df_pastry_inventory_product = df_pastry_inventory.merge(df_product, how='left', on='product_id')"
      ],
      "execution_count": 300,
      "outputs": []
    },
    {
      "cell_type": "code",
      "metadata": {
        "id": "89C9fELgcgKP"
      },
      "source": [
        "# melakukan groupby\n",
        "df8 = df_pastry_inventory_product.groupby(['sales_outlet_id','product'])[['start_of_day', 'quantity_sold', 'waste']].sum()"
      ],
      "execution_count": 301,
      "outputs": []
    },
    {
      "cell_type": "code",
      "metadata": {
        "id": "MU-cUbWvlgxo"
      },
      "source": [
        "df8['waste_percentage (max 1)'] = df8['waste']/df8['start_of_day']"
      ],
      "execution_count": 302,
      "outputs": []
    },
    {
      "cell_type": "code",
      "metadata": {
        "colab": {
          "base_uri": "https://localhost:8080/",
          "height": 533
        },
        "id": "HIu-uM6DnFTh",
        "outputId": "ff88a8ab-de38-44d5-a1c0-30a4fddd3859"
      },
      "source": [
        "df8"
      ],
      "execution_count": 303,
      "outputs": [
        {
          "output_type": "execute_result",
          "data": {
            "text/html": [
              "<div>\n",
              "<style scoped>\n",
              "    .dataframe tbody tr th:only-of-type {\n",
              "        vertical-align: middle;\n",
              "    }\n",
              "\n",
              "    .dataframe tbody tr th {\n",
              "        vertical-align: top;\n",
              "    }\n",
              "\n",
              "    .dataframe thead th {\n",
              "        text-align: right;\n",
              "    }\n",
              "</style>\n",
              "<table border=\"1\" class=\"dataframe\">\n",
              "  <thead>\n",
              "    <tr style=\"text-align: right;\">\n",
              "      <th></th>\n",
              "      <th></th>\n",
              "      <th>start_of_day</th>\n",
              "      <th>quantity_sold</th>\n",
              "      <th>waste</th>\n",
              "      <th>waste_percentage (max 1)</th>\n",
              "    </tr>\n",
              "    <tr>\n",
              "      <th>sales_outlet_id</th>\n",
              "      <th>product</th>\n",
              "      <th></th>\n",
              "      <th></th>\n",
              "      <th></th>\n",
              "      <th></th>\n",
              "    </tr>\n",
              "  </thead>\n",
              "  <tbody>\n",
              "    <tr>\n",
              "      <th rowspan=\"5\" valign=\"top\">3</th>\n",
              "      <th>Almond Croissant</th>\n",
              "      <td>324</td>\n",
              "      <td>143</td>\n",
              "      <td>181</td>\n",
              "      <td>0.558642</td>\n",
              "    </tr>\n",
              "    <tr>\n",
              "      <th>Chocolate Croissant</th>\n",
              "      <td>342</td>\n",
              "      <td>157</td>\n",
              "      <td>185</td>\n",
              "      <td>0.540936</td>\n",
              "    </tr>\n",
              "    <tr>\n",
              "      <th>Cranberry Scone</th>\n",
              "      <td>342</td>\n",
              "      <td>141</td>\n",
              "      <td>201</td>\n",
              "      <td>0.587719</td>\n",
              "    </tr>\n",
              "    <tr>\n",
              "      <th>Ginger Scone</th>\n",
              "      <td>960</td>\n",
              "      <td>247</td>\n",
              "      <td>717</td>\n",
              "      <td>0.746875</td>\n",
              "    </tr>\n",
              "    <tr>\n",
              "      <th>Hazelnut Biscotti</th>\n",
              "      <td>378</td>\n",
              "      <td>159</td>\n",
              "      <td>183</td>\n",
              "      <td>0.484127</td>\n",
              "    </tr>\n",
              "    <tr>\n",
              "      <th rowspan=\"5\" valign=\"top\">5</th>\n",
              "      <th>Almond Croissant</th>\n",
              "      <td>378</td>\n",
              "      <td>169</td>\n",
              "      <td>209</td>\n",
              "      <td>0.552910</td>\n",
              "    </tr>\n",
              "    <tr>\n",
              "      <th>Chocolate Croissant</th>\n",
              "      <td>378</td>\n",
              "      <td>169</td>\n",
              "      <td>209</td>\n",
              "      <td>0.552910</td>\n",
              "    </tr>\n",
              "    <tr>\n",
              "      <th>Cranberry Scone</th>\n",
              "      <td>378</td>\n",
              "      <td>163</td>\n",
              "      <td>215</td>\n",
              "      <td>0.568783</td>\n",
              "    </tr>\n",
              "    <tr>\n",
              "      <th>Ginger Scone</th>\n",
              "      <td>1008</td>\n",
              "      <td>261</td>\n",
              "      <td>747</td>\n",
              "      <td>0.741071</td>\n",
              "    </tr>\n",
              "    <tr>\n",
              "      <th>Hazelnut Biscotti</th>\n",
              "      <td>378</td>\n",
              "      <td>168</td>\n",
              "      <td>210</td>\n",
              "      <td>0.555556</td>\n",
              "    </tr>\n",
              "    <tr>\n",
              "      <th rowspan=\"5\" valign=\"top\">8</th>\n",
              "      <th>Almond Croissant</th>\n",
              "      <td>378</td>\n",
              "      <td>168</td>\n",
              "      <td>210</td>\n",
              "      <td>0.555556</td>\n",
              "    </tr>\n",
              "    <tr>\n",
              "      <th>Chocolate Croissant</th>\n",
              "      <td>378</td>\n",
              "      <td>193</td>\n",
              "      <td>185</td>\n",
              "      <td>0.489418</td>\n",
              "    </tr>\n",
              "    <tr>\n",
              "      <th>Cranberry Scone</th>\n",
              "      <td>378</td>\n",
              "      <td>198</td>\n",
              "      <td>180</td>\n",
              "      <td>0.476190</td>\n",
              "    </tr>\n",
              "    <tr>\n",
              "      <th>Ginger Scone</th>\n",
              "      <td>1008</td>\n",
              "      <td>332</td>\n",
              "      <td>676</td>\n",
              "      <td>0.670635</td>\n",
              "    </tr>\n",
              "    <tr>\n",
              "      <th>Hazelnut Biscotti</th>\n",
              "      <td>378</td>\n",
              "      <td>186</td>\n",
              "      <td>192</td>\n",
              "      <td>0.507937</td>\n",
              "    </tr>\n",
              "  </tbody>\n",
              "</table>\n",
              "</div>"
            ],
            "text/plain": [
              "                                     start_of_day  ...  waste_percentage (max 1)\n",
              "sales_outlet_id product                            ...                          \n",
              "3               Almond Croissant              324  ...                  0.558642\n",
              "                Chocolate Croissant           342  ...                  0.540936\n",
              "                Cranberry Scone               342  ...                  0.587719\n",
              "                Ginger Scone                  960  ...                  0.746875\n",
              "                Hazelnut Biscotti             378  ...                  0.484127\n",
              "5               Almond Croissant              378  ...                  0.552910\n",
              "                Chocolate Croissant           378  ...                  0.552910\n",
              "                Cranberry Scone               378  ...                  0.568783\n",
              "                Ginger Scone                 1008  ...                  0.741071\n",
              "                Hazelnut Biscotti             378  ...                  0.555556\n",
              "8               Almond Croissant              378  ...                  0.555556\n",
              "                Chocolate Croissant           378  ...                  0.489418\n",
              "                Cranberry Scone               378  ...                  0.476190\n",
              "                Ginger Scone                 1008  ...                  0.670635\n",
              "                Hazelnut Biscotti             378  ...                  0.507937\n",
              "\n",
              "[15 rows x 4 columns]"
            ]
          },
          "metadata": {
            "tags": []
          },
          "execution_count": 303
        }
      ]
    },
    {
      "cell_type": "markdown",
      "metadata": {
        "id": "FnWKHKR9P91H"
      },
      "source": [
        "i. Apakah konsumen yang sudah berlangganan sejak lama lebih banyak melakukan pembelian?"
      ]
    },
    {
      "cell_type": "code",
      "metadata": {
        "id": "nVw-12zKzcQc"
      },
      "source": [
        "# merge dataframe\n",
        "df_sales_reciepts_customer = df_sales_reciepts.merge(df_customer, how='left', on='customer_id')"
      ],
      "execution_count": 304,
      "outputs": []
    },
    {
      "cell_type": "code",
      "metadata": {
        "colab": {
          "base_uri": "https://localhost:8080/"
        },
        "id": "fHp3WRy8stVM",
        "outputId": "d04ed97a-0ea5-47ab-eb37-5899c4774854"
      },
      "source": [
        "# terdapat beberapa customer yang tidak teridentifikasi customer_id\n",
        "df_sales_reciepts_customer.info()"
      ],
      "execution_count": 305,
      "outputs": [
        {
          "output_type": "stream",
          "text": [
            "<class 'pandas.core.frame.DataFrame'>\n",
            "Int64Index: 49894 entries, 0 to 49893\n",
            "Data columns (total 23 columns):\n",
            " #   Column               Non-Null Count  Dtype         \n",
            "---  ------               --------------  -----         \n",
            " 0   transaction_id       49894 non-null  object        \n",
            " 1   transaction_date     49894 non-null  datetime64[ns]\n",
            " 2   transaction_time     49894 non-null  datetime64[ns]\n",
            " 3   sales_outlet_id      49894 non-null  object        \n",
            " 4   staff_id             49894 non-null  object        \n",
            " 5   customer_id          49894 non-null  object        \n",
            " 6   instore_yn           49894 non-null  object        \n",
            " 7   order                49894 non-null  int64         \n",
            " 8   line_item_id         49894 non-null  object        \n",
            " 9   product_id           49894 non-null  object        \n",
            " 10  quantity             49894 non-null  int64         \n",
            " 11  line_item_amount     49894 non-null  float64       \n",
            " 12  unit_price           49894 non-null  float64       \n",
            " 13  promo_item_yn        49894 non-null  object        \n",
            " 14  total_harga          49894 non-null  float64       \n",
            " 15  home_store           49877 non-null  object        \n",
            " 16  customer_first-name  49877 non-null  object        \n",
            " 17  customer_email       49877 non-null  object        \n",
            " 18  customer_since       49877 non-null  datetime64[ns]\n",
            " 19  loyalty_card_number  49877 non-null  object        \n",
            " 20  birthdate            49877 non-null  datetime64[ns]\n",
            " 21  gender               49877 non-null  object        \n",
            " 22  birth_year           49877 non-null  float64       \n",
            "dtypes: datetime64[ns](4), float64(4), int64(2), object(13)\n",
            "memory usage: 9.1+ MB\n"
          ],
          "name": "stdout"
        }
      ]
    },
    {
      "cell_type": "code",
      "metadata": {
        "id": "7hcXptO8tWar"
      },
      "source": [
        "# drop data null\n",
        "df_sales_receipts_customer_no_null = df_sales_reciepts_customer.dropna()"
      ],
      "execution_count": 306,
      "outputs": []
    },
    {
      "cell_type": "code",
      "metadata": {
        "colab": {
          "base_uri": "https://localhost:8080/"
        },
        "id": "kmTyWQhbuD1n",
        "outputId": "32f06637-0dcd-43b9-9909-c4eaa5b1aeac"
      },
      "source": [
        "df_sales_receipts_customer_no_null['lama_berlangganan'] = datetime.datetime(2019,4,1) - df_sales_receipts_customer_no_null['customer_since']"
      ],
      "execution_count": 307,
      "outputs": [
        {
          "output_type": "stream",
          "text": [
            "/usr/local/lib/python3.7/dist-packages/ipykernel_launcher.py:1: SettingWithCopyWarning: \n",
            "A value is trying to be set on a copy of a slice from a DataFrame.\n",
            "Try using .loc[row_indexer,col_indexer] = value instead\n",
            "\n",
            "See the caveats in the documentation: https://pandas.pydata.org/pandas-docs/stable/user_guide/indexing.html#returning-a-view-versus-a-copy\n",
            "  \"\"\"Entry point for launching an IPython kernel.\n"
          ],
          "name": "stderr"
        }
      ]
    },
    {
      "cell_type": "code",
      "metadata": {
        "id": "_g3FFbxiux2H"
      },
      "source": [
        "filter = df_sales_receipts_customer_no_null['lama_berlangganan'] < '365 days'\n",
        "\n",
        "banyak_baru = len(df_sales_receipts_customer_no_null[filter])\n",
        "banyak_lama = len(df_sales_receipts_customer_no_null[~filter])"
      ],
      "execution_count": 308,
      "outputs": []
    },
    {
      "cell_type": "code",
      "metadata": {
        "colab": {
          "base_uri": "https://localhost:8080/",
          "height": 319
        },
        "id": "PRZ1xkmOvGpG",
        "outputId": "1c3c54c9-cac9-4d2e-af4d-d2bb6c583825"
      },
      "source": [
        "# plot\n",
        "\n",
        "label = ['Pelanggan lama', 'Pelanggan baru']\n",
        "size = [banyak_lama, banyak_baru]\n",
        "\n",
        "fig, ax = plt.subplots(figsize=(5,5))\n",
        "ax.pie(size, labels=label, autopct='%1.1f%%',shadow=True, startangle=90)\n",
        "ax.axis('equal')\n",
        "plt.title('Perbandingan Transaksi Pelanggan Baru dan Pelanggan Lama')\n",
        "plt.savefig('lama_baru.png', dpi=500)\n",
        "\n",
        "plt.show()"
      ],
      "execution_count": 309,
      "outputs": [
        {
          "output_type": "display_data",
          "data": {
            "image/png": "[encoded data removed]",
            "text/plain": [
              "<Figure size 360x360 with 1 Axes>"
            ]
          },
          "metadata": {
            "tags": []
          }
        }
      ]
    },
    {
      "cell_type": "markdown",
      "metadata": {
        "id": "npF9c_eSa9TY"
      },
      "source": [
        "j. Bagaimana komposisi generasi di setiap homestore?"
      ]
    },
    {
      "cell_type": "code",
      "metadata": {
        "id": "YZ13mpsoWIhE"
      },
      "source": [
        "df10 = pd.DataFrame(df_sales_reciepts_customer_generations.groupby(['sales_outlet_id', 'generation'])['customer_id'].count())"
      ],
      "execution_count": 339,
      "outputs": []
    },
    {
      "cell_type": "code",
      "metadata": {
        "id": "IiYFcMWJb6cZ"
      },
      "source": [
        "baby_boomers = [4551, 3339, 4268]\n",
        "gen_x = [4339, 3284, 3827]\n",
        "gen_z = [2445, 2875, 3144]\n",
        "old_mil = [3548, 4135, 3299]\n",
        "young_mil = [1946, 2361, 2533]\n",
        "\n",
        "X = np.arange(0, 6, 2)"
      ],
      "execution_count": 343,
      "outputs": []
    },
    {
      "cell_type": "code",
      "metadata": {
        "colab": {
          "base_uri": "https://localhost:8080/",
          "height": 621
        },
        "id": "kG45ZlF2b3oh",
        "outputId": "a61d7a8f-4c29-4c3e-c323-246b741449b1"
      },
      "source": [
        "#plot\n",
        "fig, ax = plt.subplots(figsize=(10,10))\n",
        "\n",
        "ax.bar(X + 0.00, baby_boomers, color = 'blue', width = 0.25, label='Baby Boomers')\n",
        "ax.bar(X + 0.25, gen_x, color = 'green', width = 0.25, label='Gen X')\n",
        "ax.bar(X + 0.50, gen_z, color = 'red', width = 0.25, label = 'Gen Z')\n",
        "ax.bar(X + 0.75, old_mil, color = 'yellow', width = 0.25, label = 'Older Millennials')\n",
        "ax.bar(X + 1, young_mil, color = 'brown', width = 0.25, label = 'Young Millennials')\n",
        "\n",
        "x_label = [' ','Homestore 3',' ','Homestore 5',' ','Homestore 8']\n",
        "\n",
        "ax.set_xticklabels(x_label)\n",
        "plt.xlabel('Homestore')\n",
        "plt.ylabel('Banyak Pelanggan')\n",
        "plt.title('Segmentasi Konsumen berdasarkan Generasi Setiap Homestore April 2019')\n",
        "plt.legend()\n",
        "plt.savefig('gen_store.png', dpi=500)\n"
      ],
      "execution_count": 361,
      "outputs": [
        {
          "output_type": "display_data",
          "data": {
            "image/png": "[encoded data removed]",
            "text/plain": [
              "<Figure size 720x720 with 1 Axes>"
            ]
          },
          "metadata": {
            "tags": [],
            "needs_background": "light"
          }
        }
      ]
    },
    {
      "cell_type": "markdown",
      "metadata": {
        "id": "EVYEbWFcLFm5"
      },
      "source": [
        "**REKOMENDASI (Point 10)**"
      ]
    },
    {
      "cell_type": "markdown",
      "metadata": {
        "id": "k1S6Q00wUbDR"
      },
      "source": [
        "1. Suplai bulanan produk 'Ginger Scone' dikurangi karena di semua homestore produk ini memiliki persentase waste yang besar, lebih dari 70%.\n",
        "2. Di homestore 3, pelanggan dari generasi Baby Boomers (kelahiran 1946-1964) lebih banyak. Suplai produk Dark Chocolate Lg, Latte Rg, dan Latte sebaiknya ditingkatkan. Konsumen dari kalangan Gen X (kelahiran 1965-1979) juga tidak selisih jauh sehingga suplai produk Lemon Grass Lg, Sustainably Grown Organic Lg, dan Ethiopia Sm juga perlu ditambah.\n",
        "3. Di homestore 5, generasi Older Millennials (kelahiran 1980-1989). Suplai produk Morning Sunrise Chai Rg, Jamaican Coffee River Lg, dan Ethiopia Sm ditingkatkan.\n",
        "4. Di homestore 8, pelanggan dari generasi Baby Boomers juga lebih banyak. Suplai produk Dark Chocolate Lg, Latte Rg, dan Latte direkomendasikan untuk ditambah.\n",
        "5. Berdasarkan data, secara umum dapat dilihat bahwa generasi Baby Boomers lebih senang ke homestore toko kopi dibandingkan generasi lainnya. Pihak homestore toko kopi disarankan untuk membuat fasilitas yang nyaman untuk konsumen dari generasi ini agar terjadi penambahan revenue"
      ]
    },
    {
      "cell_type": "markdown",
      "metadata": {
        "id": "uKCnqg6VKn8P"
      },
      "source": [
        "**KESIMPULAN - Create the story (Point 10)**"
      ]
    },
    {
      "cell_type": "markdown",
      "metadata": {
        "id": "8KLeWzuojk1F"
      },
      "source": [
        "1. Berdasarkan data penjualan di seluruh homestore pada April 2019, pelanggan dari generasi Baby Boomers (kelahiran 1946-1964) lebih sering melakukan pembelian.\n",
        "\n",
        "2. Produk yang paling sering dibeli generasi Baby Boomers: Dark Chocolate Lg\n",
        "Produk yang paling sering dibeli generasi Gen X = Lemon Grass Lg\n",
        "Produk yang paling sering dibeli generasi Older Millennials  = Morning Sunrise Chai Rg\n",
        "Produk yang paling sering dibeli generasi Gen Z = Brazilian Rg\n",
        "Produk yang paling sering dibeli generasi Younger Millennials = Earl Grey Rg\n",
        "\n",
        "3. Berdasarkan data penjualan di seluruh homestore pada April 2019, kebanyakan pelanggan adalah wanita.\n",
        "\n",
        "4. Produk yang disukai wanita = Dark Chocolate Lg\n",
        "Produk yang disukai pria = Traditional Blend Chai Rg\n",
        "Produk yang disukai gender N = Morning Sunrise Chai Rg\n",
        "\n",
        "5. Produk yang paling diminati di homestore 3 = Earls Grey Rg\n",
        "Produk yang paling diminati di homestore 5 = Ethiopia Rg\n",
        "Produk yang paling diminati di homestore 8 = Ouro Brasileiro Shot\n",
        "\n",
        "6. Homestore dengan penjualan terbanyak pada April 2019 = Homestore 8\n",
        "Homestore dengan penjual terkecil pada April 2019 = Homestore 5\n",
        "\n",
        "7. Produk yang paling banyak bersisa di semua homestore = Ginger Scone.\n",
        "\n",
        "8. Berdasarkan data penjualan di seluruh homestore pada April 2019, pelanggan yang sudah berlangganan lama (lebih dari 1 tahun) lebih banyak melakukan pembelian.\n",
        "\n",
        "9. Segmentasi generasi terbanyak di homestore 3 = Baby Boomers\n",
        "Segmentasi generasi terbanyak di homestore 5 = Older Millennials\n",
        "Segmentasi generasi terbanyak di homestore 8 = Baby Boomers\n",
        "\n",
        "\n"
      ]
    }
  ]
}